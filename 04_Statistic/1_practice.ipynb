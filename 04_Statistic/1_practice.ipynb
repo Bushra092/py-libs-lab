{
 "cells": [
  {
   "cell_type": "markdown",
   "id": "e794563c",
   "metadata": {},
   "source": [
    "\n",
    "## 📝 **Practice: Sampling and Mean**\n",
    "\n",
    "**Objective:**\n",
    "Understand the difference between population and sample, and see how sample statistics estimate population statistics.\n",
    "\n",
    "\n",
    "\n",
    "**Key Takeaway:**\n",
    " Sampling allows us to estimate population metrics quickly and efficiently, but results vary slightly depending on which members are chosen.\n",
    "\n",
    "--- "
   ]
  },
  {
   "cell_type": "markdown",
   "id": "5628a40e",
   "metadata": {},
   "source": [
    "- Create a dataset of 20 employees → columns: Name, Gender, Age, Salary, Dept.\n",
    "\n",
    "- Choose 5 random employees → your sample.\n",
    "\n",
    "- Calculate mean salary of full set vs sample.\n",
    "\n",
    "- Notice the difference — that’s sampling variation."
   ]
  },
  {
   "cell_type": "code",
   "execution_count": 1,
   "id": "0b2b83f9",
   "metadata": {},
   "outputs": [
    {
     "name": "stdout",
     "output_type": "stream",
     "text": [
      "             Name Gender  Age  Salary       Dept\n",
      "0      Aisha Khan      F   28   48000         HR\n",
      "1    Rohit Sharma      M   32   55000         IT\n",
      "2     Priya Verma      F   26   45000  Marketing\n",
      "3     Arjun Singh      M   30   60000         IT\n",
      "4     Sneha Patel      F   29   50000    Finance\n",
      "5     Karan Mehta      M   35   65000         IT\n",
      "6     Meera Joshi      F   31   52000  Marketing\n",
      "7    Sameer Reddy      M   27   47000         HR\n",
      "8     Tanya Gupta      F   33   58000    Finance\n",
      "9       Varun Das      M   29   51000         IT\n",
      "10  Anjali Sharma      F   25   43000  Marketing\n",
      "11   Rakesh Kumar      M   34   62000    Finance\n",
      "12    Isha Kapoor      F   28   49000         HR\n",
      "13    Nikhil Jain      M   31   56000         IT\n",
      "14     Ritu Verma      F   27   46000  Marketing\n",
      "15   Deepak Singh      M   30   54000    Finance\n",
      "16     Pooja Nair      F   29   50000         HR\n",
      "17     Aditya Roy      M   33   60000         IT\n",
      "18    Simran Kaur      F   32   57000    Finance\n",
      "19   Mohit Bansal      M   26   45000  Marketing\n"
     ]
    }
   ],
   "source": [
    "import pandas as pd\n",
    "\n",
    "data = {\n",
    "    \"Name\": [\"Aisha Khan\", \"Rohit Sharma\", \"Priya Verma\", \"Arjun Singh\", \"Sneha Patel\",\n",
    "             \"Karan Mehta\", \"Meera Joshi\", \"Sameer Reddy\", \"Tanya Gupta\", \"Varun Das\",\n",
    "             \"Anjali Sharma\", \"Rakesh Kumar\", \"Isha Kapoor\", \"Nikhil Jain\", \"Ritu Verma\",\n",
    "             \"Deepak Singh\", \"Pooja Nair\", \"Aditya Roy\", \"Simran Kaur\", \"Mohit Bansal\"],\n",
    "    \"Gender\": [\"F\", \"M\", \"F\", \"M\", \"F\", \"M\", \"F\", \"M\", \"F\", \"M\", \"F\", \"M\", \"F\", \"M\", \"F\", \"M\", \"F\", \"M\", \"F\", \"M\"],\n",
    "    \"Age\": [28, 32, 26, 30, 29, 35, 31, 27, 33, 29, 25, 34, 28, 31, 27, 30, 29, 33, 32, 26],\n",
    "    \"Salary\": [48000, 55000, 45000, 60000, 50000, 65000, 52000, 47000, 58000, 51000,\n",
    "               43000, 62000, 49000, 56000, 46000, 54000, 50000, 60000, 57000, 45000],\n",
    "    \"Dept\": [\"HR\", \"IT\", \"Marketing\", \"IT\", \"Finance\", \"IT\", \"Marketing\", \"HR\", \"Finance\", \"IT\",\n",
    "             \"Marketing\", \"Finance\", \"HR\", \"IT\", \"Marketing\", \"Finance\", \"HR\", \"IT\", \"Finance\", \"Marketing\"]\n",
    "}\n",
    "\n",
    "df = pd.DataFrame(data)\n",
    "print(df)\n"
   ]
  },
  {
   "cell_type": "code",
   "execution_count": 8,
   "id": "0fdab2f8",
   "metadata": {},
   "outputs": [],
   "source": [
    "# - Choose 5 random employees → your sample.\n",
    "sample_data = df.sample(5)\n",
    "\n",
    "# - Calculate mean salary of full set vs sample.\n",
    "mean_sample_data = sample_data['Salary'].mean()\n",
    "mean_Full_data = df['Salary'].mean()\n",
    "\n",
    "# - Notice the difference — that’s sampling variation.\n"
   ]
  },
  {
   "cell_type": "markdown",
   "id": "1ba854ba",
   "metadata": {},
   "source": [
    "**Dataset Sample (5 rows from 20 employees):**\n",
    "\n",
    "| Name          | Gender | Age | Salary | Dept      |\n",
    "| ------------- | ------ | --- | ------ | --------- |\n",
    "| Aisha Khan    | F      | 28  | 48000  | HR        |\n",
    "| Nikhil Jain   | M      | 31  | 56000  | IT        |\n",
    "| Anjali Sharma | F      | 25  | 43000  | Marketing |\n",
    "| Isha Kapoor   | F      | 28  | 49000  | HR        |\n",
    "| Karan Mehta   | M      | 35  | 65000  | IT        |\n",
    "\n",
    "**Calculations:**\n",
    "\n",
    "* **Mean of Sample Data:** 52,200\n",
    "* **Mean of Full Data (Population):** 52,650\n",
    "\n",
    "**Observation:**\n",
    "\n",
    "* The sample mean (52,200) is slightly different from the population mean (52,650).\n",
    "* This illustrates **sampling variation**: small samples may not exactly match population statistics but give a reasonable estimate."
   ]
  },
  {
   "cell_type": "code",
   "execution_count": 10,
   "id": "02cb61af",
   "metadata": {},
   "outputs": [
    {
     "data": {
      "text/html": [
       "<div>\n",
       "<style scoped>\n",
       "    .dataframe tbody tr th:only-of-type {\n",
       "        vertical-align: middle;\n",
       "    }\n",
       "\n",
       "    .dataframe tbody tr th {\n",
       "        vertical-align: top;\n",
       "    }\n",
       "\n",
       "    .dataframe thead th {\n",
       "        text-align: right;\n",
       "    }\n",
       "</style>\n",
       "<table border=\"1\" class=\"dataframe\">\n",
       "  <thead>\n",
       "    <tr style=\"text-align: right;\">\n",
       "      <th></th>\n",
       "      <th>Name</th>\n",
       "      <th>Gender</th>\n",
       "      <th>Age</th>\n",
       "      <th>Salary</th>\n",
       "      <th>Dept</th>\n",
       "    </tr>\n",
       "  </thead>\n",
       "  <tbody>\n",
       "    <tr>\n",
       "      <th>0</th>\n",
       "      <td>Aisha Khan</td>\n",
       "      <td>F</td>\n",
       "      <td>28</td>\n",
       "      <td>48000</td>\n",
       "      <td>HR</td>\n",
       "    </tr>\n",
       "    <tr>\n",
       "      <th>13</th>\n",
       "      <td>Nikhil Jain</td>\n",
       "      <td>M</td>\n",
       "      <td>31</td>\n",
       "      <td>56000</td>\n",
       "      <td>IT</td>\n",
       "    </tr>\n",
       "    <tr>\n",
       "      <th>10</th>\n",
       "      <td>Anjali Sharma</td>\n",
       "      <td>F</td>\n",
       "      <td>25</td>\n",
       "      <td>43000</td>\n",
       "      <td>Marketing</td>\n",
       "    </tr>\n",
       "    <tr>\n",
       "      <th>12</th>\n",
       "      <td>Isha Kapoor</td>\n",
       "      <td>F</td>\n",
       "      <td>28</td>\n",
       "      <td>49000</td>\n",
       "      <td>HR</td>\n",
       "    </tr>\n",
       "    <tr>\n",
       "      <th>5</th>\n",
       "      <td>Karan Mehta</td>\n",
       "      <td>M</td>\n",
       "      <td>35</td>\n",
       "      <td>65000</td>\n",
       "      <td>IT</td>\n",
       "    </tr>\n",
       "  </tbody>\n",
       "</table>\n",
       "</div>"
      ],
      "text/plain": [
       "             Name Gender  Age  Salary       Dept\n",
       "0      Aisha Khan      F   28   48000         HR\n",
       "13    Nikhil Jain      M   31   56000         IT\n",
       "10  Anjali Sharma      F   25   43000  Marketing\n",
       "12    Isha Kapoor      F   28   49000         HR\n",
       "5     Karan Mehta      M   35   65000         IT"
      ]
     },
     "execution_count": 10,
     "metadata": {},
     "output_type": "execute_result"
    }
   ],
   "source": [
    "sample_data"
   ]
  },
  {
   "cell_type": "code",
   "execution_count": 11,
   "id": "0f27ce3b",
   "metadata": {},
   "outputs": [
    {
     "data": {
      "text/plain": [
       "(52200.0, 52650.0)"
      ]
     },
     "execution_count": 11,
     "metadata": {},
     "output_type": "execute_result"
    }
   ],
   "source": [
    "mean_sample_data, mean_Full_data"
   ]
  },
  {
   "cell_type": "code",
   "execution_count": 12,
   "id": "ffb2148c",
   "metadata": {},
   "outputs": [
    {
     "data": {
      "text/plain": [
       "450.0"
      ]
     },
     "execution_count": 12,
     "metadata": {},
     "output_type": "execute_result"
    }
   ],
   "source": [
    "mean_Full_data - mean_sample_data"
   ]
  },
  {
   "cell_type": "code",
   "execution_count": 14,
   "id": "56fa99ee",
   "metadata": {},
   "outputs": [
    {
     "name": "stdout",
     "output_type": "stream",
     "text": [
      "72700000.0 8526.429498916883\n"
     ]
    }
   ],
   "source": [
    " \n",
    "var_sample = sample_data[\"Salary\"].var()  # uses n-1 by default\n",
    "std_sample = sample_data[\"Salary\"].std()\n",
    "\n",
    "print(var_sample, std_sample)\n"
   ]
  },
  {
   "cell_type": "code",
   "execution_count": 18,
   "id": "1d0544cb",
   "metadata": {},
   "outputs": [],
   "source": [
    "import pandas as pd\n",
    "from IPython.display import display, Markdown"
   ]
  },
  {
   "cell_type": "code",
   "execution_count": 19,
   "id": "522ef564",
   "metadata": {},
   "outputs": [],
   "source": [
    "\n",
    "\n",
    "# Example full dataset\n",
    "data = {\n",
    "    \"Name\": [\"Aisha Khan\", \"Nikhil Jain\", \"Anjali Sharma\", \"Isha Kapoor\", \"Karan Mehta\",\n",
    "             \"Rohit Verma\", \"Simran Gill\", \"Rahul Sinha\", \"Priya Sharma\", \"Vikram Rao\",\n",
    "             \"Anjali Sharma\", \"Isha Kapoor\", \"Karan Mehta\", \"Nikhil Jain\", \"Rohit Verma\",\n",
    "             \"Simran Gill\", \"Rahul Sinha\", \"Priya Sharma\", \"Vikram Rao\", \"Aisha Khan\"],\n",
    "    \"Gender\": [\"F\",\"M\",\"F\",\"F\",\"M\",\"M\",\"F\",\"M\",\"F\",\"M\",\"F\",\"F\",\"M\",\"M\",\"M\",\"F\",\"M\",\"F\",\"M\",\"F\"],\n",
    "    \"Age\": [28,31,25,28,35,29,26,32,30,34,25,28,35,31,29,26,32,30,34,28],\n",
    "    \"Salary\": [48000,56000,43000,49000,65000,47000,45000,52000,50000,60000,\n",
    "               43000,49000,65000,56000,47000,45000,52000,50000,60000,48000],\n",
    "    \"Dept\": [\"HR\",\"IT\",\"Marketing\",\"HR\",\"IT\",\"Marketing\",\"HR\",\"IT\",\"Marketing\",\"HR\",\n",
    "             \"Marketing\",\"HR\",\"IT\",\"IT\",\"Marketing\",\"HR\",\"IT\",\"Marketing\",\"HR\",\"HR\"]\n",
    "}\n",
    "\n",
    "df = pd.DataFrame(data)"
   ]
  },
  {
   "cell_type": "code",
   "execution_count": 22,
   "id": "d4bab2f8",
   "metadata": {},
   "outputs": [],
   "source": [
    "\n",
    "# Take a random sample\n",
    "sample_data = df.sample(5)\n",
    "\n",
    "# Calculate means\n",
    "mean_sample_data = sample_data['Salary'].mean()\n",
    "mean_full_data = df['Salary'].mean()"
   ]
  },
  {
   "cell_type": "code",
   "execution_count": 27,
   "id": "cfd07867",
   "metadata": {},
   "outputs": [
    {
     "data": {
      "text/markdown": [
       "\n",
       "## 📝Practice: Sampling and Mean\n",
       "\n",
       "**Objective:**  \n",
       "Understand the difference between population and sample, and see how sample statistics estimate population statistics.\n",
       "\n",
       "**Sample Dataset (5 random rows):**\n",
       "\n",
       "| Name        | Gender   |   Age |   Salary | Dept   |\n",
       "|:------------|:---------|------:|---------:|:-------|\n",
       "| Vikram Rao  | M        |    34 |    60000 | HR     |\n",
       "| Aisha Khan  | F        |    28 |    48000 | HR     |\n",
       "| Nikhil Jain | M        |    31 |    56000 | IT     |\n",
       "| Simran Gill | F        |    26 |    45000 | HR     |\n",
       "| Karan Mehta | M        |    35 |    65000 | IT     |\n",
       "\n",
       "**Calculations:**  \n",
       "- **Mean of Sample Data:** 54800.00  \n",
       "- **Mean of Full Data (Population):** 51500.00  \n",
       "\n",
       "**Observation:**  \n",
       "- The sample mean (54800.00) is slightly different from the population mean (51500.00).  \n",
       "- This illustrates **sampling variation**: small samples may not exactly match population statistics but give a reasonable estimate.  \n",
       "\n",
       "**Key Takeaway:**  \n",
       "> Sampling allows us to estimate population metrics quickly and efficiently, but results vary slightly depending on which members are chosen.\n"
      ],
      "text/plain": [
       "<IPython.core.display.Markdown object>"
      ]
     },
     "metadata": {},
     "output_type": "display_data"
    }
   ],
   "source": [
    "# Create Markdown dynamically\n",
    "\n",
    "\n",
    "md_text = f\"\"\"\n",
    "## 📝Practice: Sampling and Mean\n",
    "\n",
    "**Objective:**  \n",
    "Understand the difference between population and sample, and see how sample statistics estimate population statistics.\n",
    "\n",
    "**Sample Dataset (5 random rows):**\n",
    "\n",
    "{sample_data.to_markdown(index=False)}\n",
    "\n",
    "**Calculations:**  \n",
    "- **Mean of Sample Data:** {mean_sample_data:.2f}  \n",
    "- **Mean of Full Data (Population):** {mean_full_data:.2f}  \n",
    "\n",
    "**Observation:**  \n",
    "- The sample mean ({mean_sample_data:.2f}) is slightly different from the population mean ({mean_full_data:.2f}).  \n",
    "- This illustrates **sampling variation**: small samples may not exactly match population statistics but give a reasonable estimate.  \n",
    "\n",
    "**Key Takeaway:**  \n",
    "> Sampling allows us to estimate population metrics quickly and efficiently, but results vary slightly depending on which members are chosen.\n",
    "\"\"\"\n",
    "\n",
    "# Display Markdown\n",
    "display(Markdown(md_text))\n"
   ]
  },
  {
   "cell_type": "code",
   "execution_count": null,
   "id": "ecedb975",
   "metadata": {},
   "outputs": [],
   "source": []
  }
 ],
 "metadata": {
  "kernelspec": {
   "display_name": "base",
   "language": "python",
   "name": "python3"
  },
  "language_info": {
   "codemirror_mode": {
    "name": "ipython",
    "version": 3
   },
   "file_extension": ".py",
   "mimetype": "text/x-python",
   "name": "python",
   "nbconvert_exporter": "python",
   "pygments_lexer": "ipython3",
   "version": "3.12.7"
  }
 },
 "nbformat": 4,
 "nbformat_minor": 5
}
