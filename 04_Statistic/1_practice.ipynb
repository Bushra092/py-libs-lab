{
 "cells": [
  {
   "cell_type": "markdown",
   "id": "e794563c",
   "metadata": {},
   "source": [
    "\n",
    "## 📝 **Practice: Sampling and Mean**\n",
    "\n",
    "**Objective:**\n",
    "Understand the difference between population and sample, and see how sample statistics estimate population statistics.\n",
    "\n",
    "\n",
    "\n",
    "**Key Takeaway:**\n",
    " Sampling allows us to estimate population metrics quickly and efficiently, but results vary slightly depending on which members are chosen.\n",
    "\n",
    "--- "
   ]
  },
  {
   "cell_type": "markdown",
   "id": "5628a40e",
   "metadata": {},
   "source": [
    "- Create a dataset of 20 employees → columns: Name, Gender, Age, Salary, Dept.\n",
    "\n",
    "- Choose 5 random employees → your sample.\n",
    "\n",
    "- Calculate mean salary of full set vs sample.\n",
    "\n",
    "- Notice the difference — that’s sampling variation."
   ]
  },
  {
   "cell_type": "code",
   "execution_count": 1,
   "id": "0b2b83f9",
   "metadata": {},
   "outputs": [
    {
     "data": {
      "text/markdown": [
       "\n",
       "## 📝Practice: Sampling and Mean\n",
       "\n",
       "**Objective:**  \n",
       "Understand the difference between population and sample, and see how sample statistics estimate population statistics.\n",
       "\n",
       "**Sample Dataset (5 random rows):**\n",
       "\n",
       "| Name         | Gender   |   Age |   Salary | Dept      |\n",
       "|:-------------|:---------|------:|---------:|:----------|\n",
       "| Karan Mehta  | M        |    35 |    65000 | IT        |\n",
       "| Meera Joshi  | F        |    31 |    52000 | Marketing |\n",
       "| Mohit Bansal | M        |    26 |    45000 | Marketing |\n",
       "| Nikhil Jain  | M        |    31 |    56000 | IT        |\n",
       "| Rohit Sharma | M        |    32 |    55000 | IT        |\n",
       "\n",
       "**Calculations:**  \n",
       "- **Mean of Sample Data:** 54600.00  \n",
       "- **Mean of Full Data (Population):** 52650.00  \n",
       "\n",
       "**Observation:**  \n",
       "- The sample mean (54600.00) is slightly different from the population mean (52650.00).  \n",
       "- This illustrates **sampling variation**: small samples may not exactly match population statistics but give a reasonable estimate.  \n",
       "\n",
       "**Key Takeaway:**  \n",
       "> Sampling allows us to estimate population metrics quickly and efficiently, but results vary slightly depending on which members are chosen.\n"
      ],
      "text/plain": [
       "<IPython.core.display.Markdown object>"
      ]
     },
     "metadata": {},
     "output_type": "display_data"
    }
   ],
   "source": [
    "import pandas as pd\n",
    "from IPython.display import display, Markdown  \n",
    "# This line imports functions from IPython that let you display formatted text (like bold, headers, lists) inside Jupyter notebooks using Markdown syntax\n",
    "\n",
    "\n",
    "data = {\n",
    "    \"Name\": [\"Aisha Khan\", \"Rohit Sharma\", \"Priya Verma\", \"Arjun Singh\", \"Sneha Patel\",\n",
    "             \"Karan Mehta\", \"Meera Joshi\", \"Sameer Reddy\", \"Tanya Gupta\", \"Varun Das\",\n",
    "             \"Anjali Sharma\", \"Rakesh Kumar\", \"Isha Kapoor\", \"Nikhil Jain\", \"Ritu Verma\",\n",
    "             \"Deepak Singh\", \"Pooja Nair\", \"Aditya Roy\", \"Simran Kaur\", \"Mohit Bansal\"],\n",
    "    \"Gender\": [\"F\", \"M\", \"F\", \"M\", \"F\", \"M\", \"F\", \"M\", \"F\", \"M\", \"F\", \"M\", \"F\", \"M\", \"F\", \"M\", \"F\", \"M\", \"F\", \"M\"],\n",
    "    \"Age\": [28, 32, 26, 30, 29, 35, 31, 27, 33, 29, 25, 34, 28, 31, 27, 30, 29, 33, 32, 26],\n",
    "    \"Salary\": [48000, 55000, 45000, 60000, 50000, 65000, 52000, 47000, 58000, 51000,\n",
    "               43000, 62000, 49000, 56000, 46000, 54000, 50000, 60000, 57000, 45000],\n",
    "    \"Dept\": [\"HR\", \"IT\", \"Marketing\", \"IT\", \"Finance\", \"IT\", \"Marketing\", \"HR\", \"Finance\", \"IT\",\n",
    "             \"Marketing\", \"Finance\", \"HR\", \"IT\", \"Marketing\", \"Finance\", \"HR\", \"IT\", \"Finance\", \"Marketing\"]\n",
    "}\n",
    "\n",
    "df = pd.DataFrame(data)\n",
    "\n",
    "\n",
    "# Choose 5 random employees → your sample.\n",
    "sample_data = df.sample(5)\n",
    " \n",
    "\n",
    "# Calculate mean salary of full set vs sample.\n",
    "mean_sample_data = sample_data['Salary'].mean()\n",
    "mean_full_data = df['Salary'].mean()\n",
    "\n",
    "# Notice the difference that’s sampling variation.\n",
    "diffrence = mean_full_data - mean_sample_data\n",
    "\n",
    "\n",
    "# Create Markdown dynamically\n",
    "\n",
    "\n",
    "md_text = f\"\"\"\n",
    "## 📝Practice: Sampling and Mean\n",
    "\n",
    "**Objective:**  \n",
    "Understand the difference between population and sample, and see how sample statistics estimate population statistics.\n",
    "\n",
    "**Sample Dataset (5 random rows):**\n",
    "\n",
    "{sample_data.to_markdown(index=False)}\n",
    "\n",
    "**Calculations:**  \n",
    "- **Mean of Sample Data:** {mean_sample_data:.2f}  \n",
    "- **Mean of Full Data (Population):** {mean_full_data:.2f}  \n",
    "\n",
    "**Observation:**  \n",
    "- The sample mean ({mean_sample_data:.2f}) is slightly different from the population mean ({mean_full_data:.2f}).  \n",
    "- This illustrates **sampling variation**: small samples may not exactly match population statistics but give a reasonable estimate.  \n",
    "\n",
    "**Key Takeaway:**  \n",
    "> Sampling allows us to estimate population metrics quickly and efficiently, but results vary slightly depending on which members are chosen.\n",
    "\"\"\"\n",
    "\n",
    "# Display Markdown\n",
    "display(Markdown(md_text))\n"
   ]
  }
 ],
 "metadata": {
  "kernelspec": {
   "display_name": "base",
   "language": "python",
   "name": "python3"
  },
  "language_info": {
   "codemirror_mode": {
    "name": "ipython",
    "version": 3
   },
   "file_extension": ".py",
   "mimetype": "text/x-python",
   "name": "python",
   "nbconvert_exporter": "python",
   "pygments_lexer": "ipython3",
   "version": "3.12.7"
  }
 },
 "nbformat": 4,
 "nbformat_minor": 5
}
