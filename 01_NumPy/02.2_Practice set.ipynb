{
 "cells": [
  {
   "cell_type": "markdown",
   "id": "4e2f51e2-c441-4e91-b81e-dcfd973d66f2",
   "metadata": {},
   "source": [
    "\n",
    "## 🔹 Indexing\n",
    "\n",
    "1. Create a 1D NumPy array from 10 to 19.\n",
    "\n",
    "   * Get the element at index `3`.\n",
    "   * Get the last element.\n",
    "\n",
    "2. Create a 2D array of shape (3,4) with numbers from 1 to 12.\n",
    "\n",
    "   * Extract the element at row 1, column 2.\n",
    "   * Extract the entire second row.\n",
    "\n"
   ]
  },
  {
   "cell_type": "code",
   "execution_count": 5,
   "id": "e4f3a570-ca9c-4c1c-8d00-03d2d4a0395a",
   "metadata": {},
   "outputs": [],
   "source": [
    "import numpy as np"
   ]
  },
  {
   "cell_type": "code",
   "execution_count": 53,
   "id": "702df99a-ecda-4aa1-b53b-01c1b8fce33f",
   "metadata": {},
   "outputs": [
    {
     "name": "stdout",
     "output_type": "stream",
     "text": [
      "Question: Create a 1D NumPy array from 10 to 19.Q1,Q2 \n",
      "\t\t\t----------------\n",
      "[10 11 12 13 14 15 16 17 18 19]\n",
      "the element at index 3 in [10 11 12 13 14 15 16 17 18 19] is --> 13\n",
      "the last element of [10 11 12 13 14 15 16 17 18 19] is 19\n",
      "__________________________________________________________________________________________\n",
      "\n",
      "Question: Create a 2D array of shape (3,4) with numbers from 1 to 12 Followed by Q1,q2,a3  \n",
      "\t\t\t----------------\n",
      "[[ 1  2  3  4]\n",
      " [ 5  6  7  8]\n",
      " [ 9 10 11 12]]\n",
      "the element at row 1, column 2 -> \n",
      " 7 \n",
      "the entire second row [[ 9 10 11 12]]\n",
      "the entire second column [ 3  7 11]\n"
     ]
    }
   ],
   "source": [
    "# Create a 1D NumPy array from 10 to 19.\n",
    "\n",
    "# Get the element at index 3.\n",
    "# Get the last element.\n",
    "\n",
    "array1d = np.arange(10,20)\n",
    "print('Question: Create a 1D NumPy array from 10 to 19.Q1,Q2 \\n\\t\\t\\t----------------')\n",
    "print(array1d)\n",
    "print(f'the element at index 3 in {array1d} is --> {array1d[3]}')\n",
    "print(f'the last element of {array1d} is {array1d[-1]}')\n",
    "\n",
    "\n",
    "\n",
    "# Create a 2D array of shape (3,4) with numbers from 1 to 12.\n",
    "\n",
    "# Extract the element at row 1, column 2.\n",
    "# Extract the entire second row.\n",
    "# Extract the entire second column.\n",
    "\n",
    "print('__________________________________________________________________________________________\\n')\n",
    "print('Question: Create a 2D array of shape (3,4) with numbers from 1 to 12 Followed by Q1,q2,a3  \\n\\t\\t\\t----------------')\n",
    "\n",
    "\n",
    "\n",
    "array2d = np.arange(1,13).reshape(3,4)\n",
    "print(array2d)\n",
    "print(f'the element at row 1, column 2 -> \\n {array2d[1,2]} ')\n",
    "print(f'the entire second row {array2d[2:]}')\n",
    "\n",
    "print(f'the entire second column {array2d[:, 2]}')\n",
    "\n"
   ]
  },
  {
   "cell_type": "markdown",
   "id": "08dd4246-4c6f-4d75-a1c0-a22b1257d6cb",
   "metadata": {},
   "source": [
    "\n",
    "\n",
    "---\n",
    "\n",
    "## 🔹 Slicing\n",
    "\n",
    "3. From the 1D array `[0,1,2,3,4,5,6,7,8,9]`,\n",
    "\n",
    "   * Get numbers from index 2 to 6.\n",
    "   * Get every 2nd element.\n",
    "   * Reverse the array using slicing.\n",
    "\n",
    "4. From the 2D array of shape (4,4) with values `0–15`:\n",
    "\n",
    "   * Slice the first two rows and first three columns.\n",
    "   * Slice the last row only."
   ]
  },
  {
   "cell_type": "code",
   "execution_count": 77,
   "id": "ad7a3035-7061-42cd-99e0-49acbf2e548f",
   "metadata": {},
   "outputs": [
    {
     "name": "stdout",
     "output_type": "stream",
     "text": [
      "1.Get numbers from index 2 to 6. \t\t 2.Get every 2nd element. \t\t 3.Reverse the array using slicing.\n",
      "\t\t\t\t ----------\n",
      "[0, 1, 2, 3, 4, 5, 6, 7, 8, 9]\n",
      "numbers from index 2 to 6. [2, 3, 4, 5]\n",
      "Get every 2nd element. [0, 2, 4, 6, 8]\n",
      "Reverse the array using slicing.. [9, 8, 7, 6, 5, 4, 3, 2, 1, 0]\n",
      "__________________________________________________________________________________________\n",
      "\n",
      "From the 2D array of shape (4,4) with values 0–15: \t\t 1. Slice the first two rows and first three columns. \t\t 3. Slice the last row only.\n",
      "\t\t\t\t ----------\n",
      "[[ 0  1  2  3]\n",
      " [ 4  5  6  7]\n",
      " [ 8  9 10 11]\n",
      " [12 13 14 15]]\n",
      "\n",
      "Slice the first two rows\n",
      " [[0 1 2 3]\n",
      " [4 5 6 7]] \n",
      "\n",
      "and first three columns.\n",
      " [[ 0  1  2]\n",
      " [ 4  5  6]\n",
      " [ 8  9 10]\n",
      " [12 13 14]]\n",
      "\n",
      "\n",
      "Slice the last row only: [[12 13 14 15]]\n"
     ]
    }
   ],
   "source": [
    "# From the 1D array [0,1,2,3,4,5,6,7,8,9],\n",
    "\n",
    "# Get numbers from index 2 to 6.\n",
    "# Get every 2nd element.\n",
    "# Reverse the array using slicing.\n",
    "\n",
    "print('1.Get numbers from index 2 to 6. \\t\\t 2.Get every 2nd element. \\t\\t 3.Reverse the array using slicing.')\n",
    "print('\\t\\t\\t\\t ----------')\n",
    "\n",
    "\n",
    "array1d =  [0,1,2,3,4,5,6,7,8,9]\n",
    "print(array1d)\n",
    "print(f'numbers from index 2 to 6. {array1d[2:6]}')\n",
    "print(f'Get every 2nd element. {array1d[::2]}')\n",
    "print(f'Reverse the array using slicing.. {array1d[::-1]}')\n",
    "\n",
    "\n",
    "\n",
    "# From the 2D array of shape (4,4) with values 0–15:\n",
    "\n",
    "# Slice the first two rows and first three columns.\n",
    "# Slice the last row only.\n",
    "\n",
    "print('__________________________________________________________________________________________\\n')\n",
    "\n",
    "print('From the 2D array of shape (4,4) with values 0–15: \\t\\t 1. Slice the first two rows and first three columns. \\t\\t 3. Slice the last row only.')\n",
    "print('\\t\\t\\t\\t ----------')\n",
    "\n",
    "array2d = np.arange(0,16).reshape(4,4)\n",
    "print(array2d)\n",
    "print(f'\\nSlice the first two rows\\n {array2d[0:2]} \\n\\nand first three columns.\\n {array2d[:, 0:3]}')\n",
    "print(f'\\n\\nSlice the last row only: {array2d[-1:]}')"
   ]
  },
  {
   "cell_type": "markdown",
   "id": "da5486a4-c302-4316-91e7-eb72ac95f5d4",
   "metadata": {},
   "source": [
    "\n",
    "\n",
    "---\n",
    "\n",
    "## 🔹 Fancy Indexing\n",
    "\n",
    "5. Given `arr = np.array([10,20,30,40,50])`:\n",
    "\n",
    "   * Extract elements at positions `[0, 2, 4]`.\n",
    "\n",
    "6. Create a 3x3 array with numbers 1–9.\n",
    "\n",
    "   * Use fancy indexing to pick elements `(0,0)`, `(1,1)`, `(2,2)` (diagonal)."
   ]
  },
  {
   "cell_type": "code",
   "execution_count": 101,
   "id": "28acb78c-e4fb-48aa-b30c-f154a1b3114d",
   "metadata": {},
   "outputs": [
    {
     "name": "stdout",
     "output_type": "stream",
     "text": [
      "[10 20 30 40 50]\n",
      "Extract elements at positions [0, 2, 4] ---->\t[10 30 50]\n",
      "\n",
      "\n",
      " \t\t ------ \n",
      "\n",
      "\n",
      "[[1 2 3]\n",
      " [4 5 6]\n",
      " [7 8 9]]\n",
      "Use fancy indexing to pick diagonal elements ---> [1 5 9]\n",
      "using np.diag(array) \n",
      "[1 5 9]\n"
     ]
    }
   ],
   "source": [
    "# Given arr = np.array([10,20,30,40,50]):\n",
    "\n",
    "# Extract elements at positions [0, 2, 4].\n",
    "\n",
    "arr = np.array([10,20,30,40,50])\n",
    "print(arr)\n",
    "print(f'Extract elements at positions [0, 2, 4] ---->\\t{arr[[0, 2, 4]]}')\n",
    "\n",
    "# Create a 3x3 array with numbers 1–9.\n",
    "# Use fancy indexing to pick elements (0,0), (1,1), (2,2) (diagonal).\n",
    "\n",
    "print('\\n\\n \\t\\t ------ \\n\\n')\n",
    "array3d = np.arange(1,10).reshape(3,3)\n",
    "print(array3d)\n",
    "# print(f' Use fancy indexing to pick elements (0,0), (1,1), (2,2) (diagonal) ---> {array3d[[0, 1, 2], [0, 1, 2]]}')\n",
    "print(f\"Use fancy indexing to pick diagonal elements ---> {array3d[[0,1,2],[0,1,2]]}\")\n",
    "\n",
    "#   OR\n",
    "\n",
    "print(\"using np.diag(array) \")\n",
    "\n",
    "print(np.diag(array3d))\n"
   ]
  },
  {
   "cell_type": "markdown",
   "id": "6bcfa852-e7ce-44d3-8698-c529a669d582",
   "metadata": {},
   "source": [
    "\n",
    "\n",
    "---\n",
    "\n",
    "## 🔹 Boolean Masking\n",
    "\n",
    "7. From `arr = np.array([5,10,15,20,25,30])`:\n",
    "\n",
    "   * Extract values greater than 15.\n",
    "   * Extract even numbers only.\n",
    "\n",
    "8. From a 3x3 matrix of values 1–9,\n",
    "\n",
    "   * Get all elements greater than 5.\n"
   ]
  },
  {
   "cell_type": "code",
   "execution_count": 109,
   "id": "6fc488e4-7118-4752-8b45-bca3aee3f25c",
   "metadata": {},
   "outputs": [
    {
     "name": "stdout",
     "output_type": "stream",
     "text": [
      "[ 5 10 15 20 25 30]\n",
      "extract values greater than 15. \t [20 25 30]\n",
      "Extract even numbers only. \t [10 20 30]\n",
      "\n",
      "\n",
      "\t\t\t ----- \n",
      "\n",
      "\n",
      "[[1 2 3]\n",
      " [4 5 6]\n",
      " [7 8 9]].\n",
      " Get all elements greater than 5.\n",
      " [6 7 8 9]\n"
     ]
    }
   ],
   "source": [
    "arr = np.array([5,10,15,20,25,30])\n",
    "print(arr)\n",
    "print(f'extract values greater than 15. \\t {arr[arr>15]}')\n",
    "print(f'Extract even numbers only. \\t {arr[arr%2 == 0]}')\n",
    "\n",
    "print('\\n\\n\\t\\t\\t ----- \\n\\n')\n",
    "arr3d = np.arange(1,10).reshape(3,3)\n",
    "print(f'{arr3d}.\\n Get all elements greater than 5.\\n {arr3d[arr3d>5]}')"
   ]
  },
  {
   "cell_type": "markdown",
   "id": "5b5ca260-7527-481f-b06b-f7b243971e8b",
   "metadata": {},
   "source": [
    "\n",
    "---\n",
    "\n",
    "## 🔹 Array Shape\n",
    "\n",
    "9. Create a 1D array with 12 elements.\n",
    "\n",
    "   * Find its `.shape`.\n",
    "   * Reshape it into (3,4).\n",
    "\n",
    "10. Given `arr = np.arange(24)`,\n",
    "\n",
    "* Reshape into (2,3,4).\n",
    "* What is the total number of elements?"
   ]
  },
  {
   "cell_type": "code",
   "execution_count": 115,
   "id": "1cac8475-f153-4979-ade3-28fd32ec86cc",
   "metadata": {},
   "outputs": [
    {
     "name": "stdout",
     "output_type": "stream",
     "text": [
      "[ 1  2  3  4  5  6  7  8  9 10 11 12]\n",
      "(12,)\n",
      "[[ 1  2  3  4]\n",
      " [ 5  6  7  8]\n",
      " [ 9 10 11 12]]\n",
      "\n",
      "\n",
      "\t\t ----- \n",
      "\n",
      "\n",
      "[ 0  1  2  3  4  5  6  7  8  9 10 11 12 13 14 15 16 17 18 19 20 21 22 23]\n",
      "[[[ 0  1  2  3]\n",
      "  [ 4  5  6  7]\n",
      "  [ 8  9 10 11]]\n",
      "\n",
      " [[12 13 14 15]\n",
      "  [16 17 18 19]\n",
      "  [20 21 22 23]]]\n",
      "(2, 3, 4)\n",
      "total number of elements:  24\n"
     ]
    }
   ],
   "source": [
    "\n",
    "array1d = np.arange(1,13)\n",
    "print(array1d)\n",
    "print(array1d.shape)\n",
    "\n",
    "reshaping = array1d.reshape(3,4)\n",
    "print(reshaping)\n",
    "\n",
    "print('\\n\\n\\t\\t ----- \\n\\n')\n",
    "\n",
    "arr = np.arange(24)\n",
    "print(arr)\n",
    "reshaping = arr.reshape(2,3,4)\n",
    "print(reshaping)\n",
    "print(reshaping.shape)\n",
    "print('total number of elements: ', arr.size)"
   ]
  },
  {
   "cell_type": "markdown",
   "id": "dd013162-bba5-4516-a58c-9142adc2cd1c",
   "metadata": {},
   "source": [
    "\n",
    "---\n",
    "\n",
    "## 🔹 Reshaping\n",
    "\n",
    "12. Create a 1D array of 16 elements.\n",
    "\n",
    "* Reshape it into (4,4).\n",
    "* Reshape the same array into (2,2,4).\n",
    "* Why must the product of dimensions remain the same?\n",
    "    *   Answer : The product of dimensions must remain the same because reshaping does not create or remove elements, it only changes their arrangement. The total number of elements before and after reshape must be equal.\n"
   ]
  },
  {
   "cell_type": "code",
   "execution_count": 131,
   "id": "3832616a-f30b-46d0-9207-a52d18b0d774",
   "metadata": {},
   "outputs": [
    {
     "name": "stdout",
     "output_type": "stream",
     "text": [
      "[ 0  1  2  3  4  5  6  7  8  9 10 11 12 13 14 15]\n",
      "Reshape it into (4,4).\n",
      " [[ 0  1  2  3]\n",
      " [ 4  5  6  7]\n",
      " [ 8  9 10 11]\n",
      " [12 13 14 15]]\n",
      "Reshape the same array into (2,2,4). \n",
      "[[[ 0  1  2  3]\n",
      "  [ 4  5  6  7]]\n",
      "\n",
      " [[ 8  9 10 11]\n",
      "  [12 13 14 15]]] \n",
      "\n"
     ]
    }
   ],
   "source": [
    "array1d = np.arange(0,16)\n",
    "print(array1d)\n",
    "\n",
    "print(f'Reshape it into (4,4).\\n {array1d.reshape(4,4)}')\n",
    "print(f'Reshape the same array into (2,2,4). \\n{array1d.reshape(2,2,4)} ') "
   ]
  },
  {
   "cell_type": "markdown",
   "id": "8dd2d70b-b198-4e3e-89a0-a5159edbb586",
   "metadata": {},
   "source": [
    "\n",
    "\n",
    "---\n",
    "\n",
    "## 🔹 Ravel vs Flatten\n",
    "\n",
    "11. Create a 2D array (3x3).\n",
    "\n",
    "* Convert it into 1D using `.ravel()`.\n",
    "* Modify one element in the ravelled array. Does it change the original?\n",
    "* Repeat the same with `.flatten()` and check if original changes.\n"
   ]
  },
  {
   "cell_type": "code",
   "execution_count": 145,
   "id": "336cb709-2a34-4ce3-8e36-0b1c33dd8811",
   "metadata": {},
   "outputs": [
    {
     "name": "stdout",
     "output_type": "stream",
     "text": [
      "[[ 5  6  7]\n",
      " [ 8  9 10]\n",
      " [11 12 13]]\n",
      "[ 5  6  7  8  9 10 11 12 13]\n",
      "[[ 5  6 17]\n",
      " [ 8  9 10]\n",
      " [11 12 13]]\n",
      "[ 5  6 17  8  9 10 11 12 13]\n"
     ]
    }
   ],
   "source": [
    "arr2d = np.arange(5, 14).reshape(3, 3)\n",
    "print(arr2d)\n",
    "\n",
    "c1d = arr2d.ravel()\n",
    "print(c1d)\n",
    "c1d[2] = 17 \n",
    "print(arr2d)  "
   ]
  },
  {
   "cell_type": "code",
   "execution_count": 147,
   "id": "69e8a786-9c37-41d4-ae86-646bc5f00a76",
   "metadata": {},
   "outputs": [
    {
     "name": "stdout",
     "output_type": "stream",
     "text": [
      "[[ 5  6  7]\n",
      " [ 8  9 10]\n",
      " [11 12 13]]\n",
      "[ 5  6  7  8  9 10 11 12 13]\n",
      "[[ 5  6  7]\n",
      " [ 8  9 10]\n",
      " [11 12 13]]\n",
      "[15  6  7  8  9 10 11 12 13]\n"
     ]
    }
   ],
   "source": [
    "arr2d = np.arange(5, 14).reshape(3, 3)\n",
    "print(arr2d)\n",
    "\n",
    "c1d = arr2d.flatten()\n",
    "print(c1d)\n",
    "c1d[0] = 15\n",
    "print(arr2d)\n",
    "print(c1d)"
   ]
  },
  {
   "cell_type": "markdown",
   "id": "d054e853-617c-4baa-9ff6-b8d165d44afe",
   "metadata": {},
   "source": [
    "\n",
    "---\n",
    "\n",
    "🔥 Bonus Challenge:\n",
    "13\\. Given `arr = np.arange(1,28)`,\n",
    "\n",
    "* Reshape into (3,3,3).\n",
    "* Extract the middle “slice” (the 2nd cube).\n",
    "* Flatten it back to 1D.\n"
   ]
  },
  {
   "cell_type": "code",
   "execution_count": 179,
   "id": "2655101a-b5f3-4544-9d46-245abe3cbbc4",
   "metadata": {},
   "outputs": [
    {
     "name": "stdout",
     "output_type": "stream",
     "text": [
      "[ 1  2  3  4  5  6  7  8  9 10 11 12 13 14 15 16 17 18 19 20 21 22 23 24\n",
      " 25 26 27]\n",
      "Reshape into (3,3,3). \n",
      "[[[ 1  2  3]\n",
      "  [ 4  5  6]\n",
      "  [ 7  8  9]]\n",
      "\n",
      " [[10 11 12]\n",
      "  [13 14 15]\n",
      "  [16 17 18]]\n",
      "\n",
      " [[19 20 21]\n",
      "  [22 23 24]\n",
      "  [25 26 27]]]\n",
      "\n",
      " Extract the middle “slice” (the 2nd cube). \n",
      "[[10 11 12]\n",
      " [13 14 15]\n",
      " [16 17 18]]\n",
      "Flatten it back to 1D.\n",
      "[ 1  2  3  4  5  6  7  8  9 10 11 12 13 14 15 16 17 18 19 20 21 22 23 24\n",
      " 25 26 27]\n"
     ]
    }
   ],
   "source": [
    "arr = np.arange(1,28)\n",
    "reshapeArr =  arr.reshape(3,3,3)\n",
    "print(arr)\n",
    "\n",
    "print(f'Reshape into (3,3,3). \\n{reshapeArr}')\n",
    "middle_cube = reshapeArr[1]\n",
    "\n",
    "print()\n",
    "print(f' Extract the middle “slice” (the 2nd cube). \\n{middle_cube}')\n",
    "print(f'Flatten it back to 1D.\\n{reshapeArr.flatten()}')"
   ]
  }
 ],
 "metadata": {
  "kernelspec": {
   "display_name": "Python 3 (ipykernel)",
   "language": "python",
   "name": "python3"
  },
  "language_info": {
   "codemirror_mode": {
    "name": "ipython",
    "version": 3
   },
   "file_extension": ".py",
   "mimetype": "text/x-python",
   "name": "python",
   "nbconvert_exporter": "python",
   "pygments_lexer": "ipython3",
   "version": "3.12.7"
  }
 },
 "nbformat": 4,
 "nbformat_minor": 5
}
