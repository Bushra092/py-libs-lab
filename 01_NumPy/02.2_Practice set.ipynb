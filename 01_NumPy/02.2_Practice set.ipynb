{
 "cells": [
  {
   "cell_type": "markdown",
   "id": "4e2f51e2-c441-4e91-b81e-dcfd973d66f2",
   "metadata": {},
   "source": [
    "\n",
    "## 🔹 Indexing\n",
    "\n",
    "1. Create a 1D NumPy array from 10 to 19.\n",
    "\n",
    "   * Get the element at index `3`.\n",
    "   * Get the last element.\n",
    "\n",
    "2. Create a 2D array of shape (3,4) with numbers from 1 to 12.\n",
    "\n",
    "   * Extract the element at row 1, column 2.\n",
    "   * Extract the entire second row.\n",
    "\n"
   ]
  },
  {
   "cell_type": "code",
   "execution_count": 11,
   "id": "e4f3a570-ca9c-4c1c-8d00-03d2d4a0395a",
   "metadata": {},
   "outputs": [],
   "source": [
    "import numpy as np"
   ]
  },
  {
   "cell_type": "code",
   "execution_count": null,
   "id": "e78c7f1d-87b0-4b63-8a85-e10fdbbc7441",
   "metadata": {},
   "outputs": [],
   "source": [
    "# Create a 1D NumPy array from 10 to 19.\n",
    "\n",
    "# Get the element at index 3.\n",
    "# Get the last element.\n",
    "\n",
    "array1d = np.arrange(10,20)\n",
    "\n",
    "\n",
    "\n",
    "# Create a 2D array of shape (3,4) with numbers from 1 to 12.\n",
    "\n",
    "# Extract the element at row 1, column 2.\n",
    "# Extract the entire second row."
   ]
  },
  {
   "cell_type": "markdown",
   "id": "b2b257c8-fab8-4136-8fb8-62f15bf12b1e",
   "metadata": {},
   "source": [
    "---\n",
    "\n",
    "## 🔹 Indexing\n",
    "\n",
    "1. Create a 1D NumPy array from 10 to 19.\n",
    "\n",
    "   * Get the element at index `3`.\n",
    "   * Get the last element.\n",
    "\n",
    "2. Create a 2D array of shape (3,4) with numbers from 1 to 12.\n",
    "\n",
    "   * Extract the element at row 1, column 2.\n",
    "   * Extract the entire second row."
   ]
  },
  {
   "cell_type": "code",
   "execution_count": null,
   "id": "1f06383c-06f9-4e97-b302-ede9dcc56152",
   "metadata": {},
   "outputs": [],
   "source": []
  },
  {
   "cell_type": "code",
   "execution_count": null,
   "id": "fdfc5135-1bef-441a-a714-dbde73146856",
   "metadata": {},
   "outputs": [],
   "source": []
  },
  {
   "cell_type": "markdown",
   "id": "08dd4246-4c6f-4d75-a1c0-a22b1257d6cb",
   "metadata": {},
   "source": [
    "\n",
    "\n",
    "---\n",
    "\n",
    "## 🔹 Slicing\n",
    "\n",
    "3. From the 1D array `[0,1,2,3,4,5,6,7,8,9]`,\n",
    "\n",
    "   * Get numbers from index 2 to 6.\n",
    "   * Get every 2nd element.\n",
    "   * Reverse the array using slicing.\n",
    "\n",
    "4. From the 2D array of shape (4,4) with values `0–15`:\n",
    "\n",
    "   * Slice the first two rows and first three columns.\n",
    "   * Slice the last row only."
   ]
  },
  {
   "cell_type": "code",
   "execution_count": null,
   "id": "ad7a3035-7061-42cd-99e0-49acbf2e548f",
   "metadata": {},
   "outputs": [],
   "source": []
  },
  {
   "cell_type": "code",
   "execution_count": null,
   "id": "8298ae7c-47cf-4944-acce-9fc695d69549",
   "metadata": {},
   "outputs": [],
   "source": []
  },
  {
   "cell_type": "markdown",
   "id": "da5486a4-c302-4316-91e7-eb72ac95f5d4",
   "metadata": {},
   "source": [
    "\n",
    "\n",
    "---\n",
    "\n",
    "## 🔹 Fancy Indexing\n",
    "\n",
    "5. Given `arr = np.array([10,20,30,40,50])`:\n",
    "\n",
    "   * Extract elements at positions `[0, 2, 4]`.\n",
    "\n",
    "6. Create a 3x3 array with numbers 1–9.\n",
    "\n",
    "   * Use fancy indexing to pick elements `(0,0)`, `(1,1)`, `(2,2)` (diagonal)."
   ]
  },
  {
   "cell_type": "code",
   "execution_count": null,
   "id": "28acb78c-e4fb-48aa-b30c-f154a1b3114d",
   "metadata": {},
   "outputs": [],
   "source": []
  },
  {
   "cell_type": "markdown",
   "id": "6bcfa852-e7ce-44d3-8698-c529a669d582",
   "metadata": {},
   "source": [
    "\n",
    "\n",
    "---\n",
    "\n",
    "## 🔹 Boolean Masking\n",
    "\n",
    "7. From `arr = np.array([5,10,15,20,25,30])`:\n",
    "\n",
    "   * Extract values greater than 15.\n",
    "   * Extract even numbers only.\n",
    "\n",
    "8. From a 3x3 matrix of values 1–9,\n",
    "\n",
    "   * Get all elements greater than 5.\n"
   ]
  },
  {
   "cell_type": "code",
   "execution_count": null,
   "id": "6fc488e4-7118-4752-8b45-bca3aee3f25c",
   "metadata": {},
   "outputs": [],
   "source": []
  },
  {
   "cell_type": "code",
   "execution_count": null,
   "id": "b9899ca1-d676-4ed4-bc38-d2f4fb9a62b8",
   "metadata": {},
   "outputs": [],
   "source": []
  },
  {
   "cell_type": "markdown",
   "id": "5b5ca260-7527-481f-b06b-f7b243971e8b",
   "metadata": {},
   "source": [
    "\n",
    "---\n",
    "\n",
    "## 🔹 Array Shape\n",
    "\n",
    "9. Create a 1D array with 12 elements.\n",
    "\n",
    "   * Find its `.shape`.\n",
    "   * Reshape it into (3,4).\n",
    "\n",
    "10. Given `arr = np.arange(24)`,\n",
    "\n",
    "* Reshape into (2,3,4).\n",
    "* What is the total number of elements?"
   ]
  },
  {
   "cell_type": "code",
   "execution_count": null,
   "id": "3832616a-f30b-46d0-9207-a52d18b0d774",
   "metadata": {},
   "outputs": [],
   "source": []
  },
  {
   "cell_type": "markdown",
   "id": "8dd2d70b-b198-4e3e-89a0-a5159edbb586",
   "metadata": {},
   "source": [
    "\n",
    "\n",
    "---\n",
    "\n",
    "## 🔹 Ravel vs Flatten\n",
    "\n",
    "11. Create a 2D array (3x3).\n",
    "\n",
    "* Convert it into 1D using `.ravel()`.\n",
    "* Modify one element in the ravelled array. Does it change the original?\n",
    "* Repeat the same with `.flatten()` and check if original changes.\n"
   ]
  },
  {
   "cell_type": "code",
   "execution_count": null,
   "id": "1cac8475-f153-4979-ade3-28fd32ec86cc",
   "metadata": {},
   "outputs": [],
   "source": []
  },
  {
   "cell_type": "code",
   "execution_count": null,
   "id": "336cb709-2a34-4ce3-8e36-0b1c33dd8811",
   "metadata": {},
   "outputs": [],
   "source": []
  },
  {
   "cell_type": "markdown",
   "id": "dd013162-bba5-4516-a58c-9142adc2cd1c",
   "metadata": {},
   "source": [
    "\n",
    "---\n",
    "\n",
    "## 🔹 Reshaping\n",
    "\n",
    "12. Create a 1D array of 16 elements.\n",
    "\n",
    "* Reshape it into (4,4).\n",
    "* Reshape the same array into (2,2,4).\n",
    "* Why must the product of dimensions remain the same?\n"
   ]
  },
  {
   "cell_type": "code",
   "execution_count": null,
   "id": "69e8a786-9c37-41d4-ae86-646bc5f00a76",
   "metadata": {},
   "outputs": [],
   "source": []
  },
  {
   "cell_type": "code",
   "execution_count": null,
   "id": "a1806e0e-8ffd-4cb4-a4df-a7bade2528d8",
   "metadata": {},
   "outputs": [],
   "source": []
  },
  {
   "cell_type": "markdown",
   "id": "d054e853-617c-4baa-9ff6-b8d165d44afe",
   "metadata": {},
   "source": [
    "\n",
    "---\n",
    "\n",
    "🔥 Bonus Challenge:\n",
    "13\\. Given `arr = np.arange(1,28)`,\n",
    "\n",
    "* Reshape into (3,3,3).\n",
    "* Extract the middle “slice” (the 2nd cube).\n",
    "* Flatten it back to 1D.\n"
   ]
  },
  {
   "cell_type": "code",
   "execution_count": null,
   "id": "2655101a-b5f3-4544-9d46-245abe3cbbc4",
   "metadata": {},
   "outputs": [],
   "source": []
  }
 ],
 "metadata": {
  "kernelspec": {
   "display_name": "Python 3 (ipykernel)",
   "language": "python",
   "name": "python3"
  },
  "language_info": {
   "codemirror_mode": {
    "name": "ipython",
    "version": 3
   },
   "file_extension": ".py",
   "mimetype": "text/x-python",
   "name": "python",
   "nbconvert_exporter": "python",
   "pygments_lexer": "ipython3",
   "version": "3.12.7"
  }
 },
 "nbformat": 4,
 "nbformat_minor": 5
}
