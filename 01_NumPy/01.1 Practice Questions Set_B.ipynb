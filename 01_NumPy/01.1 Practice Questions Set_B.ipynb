{
 "cells": [
  {
   "cell_type": "markdown",
   "id": "56e99a66-0ec2-4303-a6b3-7cc86ccc7653",
   "metadata": {},
   "source": [
    "## 📝 Practice Questions Set - 24 Questions\n",
    "\n",
    "\n",
    "---"
   ]
  },
  {
   "cell_type": "markdown",
   "id": "439f74e5-cf0c-4889-9023-1c5fdbc71ade",
   "metadata": {},
   "source": [
    "\n",
    "### 🧮 A. Array Properties\n",
    "\n",
    "      - 1 Create a 2D NumPy array of shape (4, 3) filled with any numbers.    \n",
    "        Print its .shape, .size, .ndim, and .dtype.\n",
    "        \n",
    "      - 2 Create a 3D array of shape (2, 2, 3).    \n",
    "        Verify the number of dimensions and total elements using .ndim and .size.\n",
    "        \n",
    "      - 3 Create a 1D NumPy array with numbers from 10 to 20.    \n",
    "        Print its shape, size, ndim, and dtype.\n",
    "        \n",
    "      - 4 Create a 2D array (3 rows × 4 columns) filled with zeros.\n",
    "        \n",
    "      - 5 Create a 3×3 array filled with the number 7.\n",
    "        \n",
    "      - 6 Generate an array of even numbers between 50 and 100 (inclusive).\n",
    "        \n",
    "      - 7 Create an identity matrix of size 5×5."
   ]
  },
  {
   "cell_type": "code",
   "execution_count": 1,
   "id": "62aabbc2-dcb1-419c-a6f5-e8ba05843882",
   "metadata": {},
   "outputs": [],
   "source": [
    "import numpy as np"
   ]
  },
  {
   "cell_type": "code",
   "execution_count": 4,
   "id": "2aa5a552-3c7c-4ebd-99ef-64f8aa1c0e9f",
   "metadata": {},
   "outputs": [
    {
     "name": "stdout",
     "output_type": "stream",
     "text": [
      "[[ 1  2  3]\n",
      " [ 4  5  6]\n",
      " [ 7  8  9]\n",
      " [10 11 12]]\n",
      "(4, 3) 12 2 int32\n"
     ]
    }
   ],
   "source": [
    "#  1 Create a 2D NumPy array of shape (4, 3) filled with any numbers.    \n",
    "# Print its .shape, .size, .ndim, and .dtype.\n",
    "\n",
    "arr_2d = np.array([\n",
    "    [1,2,3],\n",
    "    [4,5,6],\n",
    "    [7,8,9],\n",
    "    [10,11,12]\n",
    "])\n",
    "print(arr_2d)\n",
    "print(arr_2d.shape, arr_2d.size, arr_2d.ndim, arr_2d.dtype)"
   ]
  },
  {
   "cell_type": "code",
   "execution_count": 14,
   "id": "56d5545f-7ef7-4536-b597-a7d13fd5e097",
   "metadata": {},
   "outputs": [
    {
     "name": "stdout",
     "output_type": "stream",
     "text": [
      "[[[1 2 3]\n",
      "  [4 5 6]]\n",
      "\n",
      " [[4 5 6]\n",
      "  [1 2 3]]]\n",
      "3 12\n"
     ]
    }
   ],
   "source": [
    "# 2 Create a 3D array of shape (2, 2, 3).    \n",
    "#     Verify the number of dimensions and total elements using .ndim and .size.\n",
    "\n",
    "arr_3d = np.array([\n",
    "    [[1,2,3],[4,5,6]],\n",
    "    [[4,5,6],[1,2,3]]\n",
    "])\n",
    "print(arr_3d)\n",
    "print(arr_3d.ndim, arr_3d.size)\n"
   ]
  },
  {
   "cell_type": "code",
   "execution_count": 16,
   "id": "a6af4a87-78b6-4225-bed5-92a1d573c000",
   "metadata": {},
   "outputs": [
    {
     "name": "stdout",
     "output_type": "stream",
     "text": [
      "[10 11 12 13 14 15 16 17 18 19 20]\n",
      "(11,) 11 1 int32\n"
     ]
    }
   ],
   "source": [
    "# 3 Create a 1D NumPy array with numbers from 10 to 20.    \n",
    "#     Print its shape, size, ndim, and dtype.\n",
    "\n",
    "arr_1d = np.arange(10,21,1)\n",
    "print(arr_1d)\n",
    "print(arr_1d.shape, arr_1d.size, arr_1d.ndim, arr_1d.dtype)\n"
   ]
  },
  {
   "cell_type": "code",
   "execution_count": 20,
   "id": "f621a966-b4e9-4ecb-936f-ae1b70b67410",
   "metadata": {},
   "outputs": [
    {
     "name": "stdout",
     "output_type": "stream",
     "text": [
      "[[0. 0. 0. 0.]\n",
      " [0. 0. 0. 0.]\n",
      " [0. 0. 0. 0.]]\n"
     ]
    }
   ],
   "source": [
    "# 4 Create a 2D array (3 rows × 4 columns) filled with zeros.\n",
    "\n",
    "arr_2d = np.zeros((3,4))\n",
    "print(arr_2d)\n",
    "\n"
   ]
  },
  {
   "cell_type": "code",
   "execution_count": 24,
   "id": "b4e6f51e-a664-43a9-8e4f-2dfa47ffdb29",
   "metadata": {},
   "outputs": [
    {
     "name": "stdout",
     "output_type": "stream",
     "text": [
      "[[7 7 7]\n",
      " [7 7 7]\n",
      " [7 7 7]]\n"
     ]
    }
   ],
   "source": [
    " # 5 Create a 3×3 array filled with the number 7.\n",
    "filled_array = np.full((3,3), 7)\n",
    "print(filled_array)"
   ]
  },
  {
   "cell_type": "code",
   "execution_count": 26,
   "id": "4590c1d7-4a36-4206-a1ef-f311f031774a",
   "metadata": {},
   "outputs": [
    {
     "name": "stdout",
     "output_type": "stream",
     "text": [
      "[ 50  51  52  53  54  55  56  57  58  59  60  61  62  63  64  65  66  67\n",
      "  68  69  70  71  72  73  74  75  76  77  78  79  80  81  82  83  84  85\n",
      "  86  87  88  89  90  91  92  93  94  95  96  97  98  99 100]\n"
     ]
    }
   ],
   "source": [
    " # 6 Generate even numbers between 50 and 100 (inclusive).\n",
    "even_array = np.arange(50,101)\n",
    "print(even_array)"
   ]
  },
  {
   "cell_type": "code",
   "execution_count": 28,
   "id": "520b74d2-402a-4a5a-bc7c-12fa877b6976",
   "metadata": {},
   "outputs": [
    {
     "name": "stdout",
     "output_type": "stream",
     "text": [
      "[[1. 0. 0. 0. 0.]\n",
      " [0. 1. 0. 0. 0.]\n",
      " [0. 0. 1. 0. 0.]\n",
      " [0. 0. 0. 1. 0.]\n",
      " [0. 0. 0. 0. 1.]]\n"
     ]
    }
   ],
   "source": [
    " # 7 Create an identity matrix of size 5×5.\n",
    "\n",
    "identity_matrix = np.eye(5,5)\n",
    "print(identity_matrix)"
   ]
  },
  {
   "cell_type": "markdown",
   "id": "7b102a04-b042-4229-bd1f-bdca0b38a44b",
   "metadata": {},
   "source": [
    "---\n",
    "\n",
    "### 🧩 B. Type Conversion\n",
    "    - 1 Create an integer array and convert it to: float using .astype(float)\n",
    "    string using .astype(str)\n",
    "    Print the converted arrays and check their .dtype.\n",
    "\n",
    "    - 2 Create an array of floating numbers [1.5, 2.3, 5.7, 9.9] and convert it to integers using .astype(int).\n",
    "\n",
    "    - 3 Create a 1D array of size 8 with values from 1 to 8, then reshape it into a 2D array of shape (2, 4).\n",
    "    \n",
    "    - 4 Check the number of dimensions (ndim) for a scalar, a 1D array, and a 3D array.\n",
    "        "
   ]
  },
  {
   "cell_type": "code",
   "execution_count": 33,
   "id": "af8b9504-7b23-41a9-9b00-b91b2dc7dd6f",
   "metadata": {},
   "outputs": [
    {
     "name": "stdout",
     "output_type": "stream",
     "text": [
      "[1 2 3 4 5] int32\n",
      "float64\n",
      "<U11\n"
     ]
    }
   ],
   "source": [
    "# 1 Create an integer array and convert it to a float using .astype(float)\n",
    "# string using .astype(str)\n",
    "# Print the converted arrays and check their .dtype.\n",
    "\n",
    "int_arr = np.array([1,2,3,4,5])\n",
    "print(int_arr, int_arr.dtype)\n",
    "\n",
    "float_arr = int_arr.astype(float)\n",
    "print(float_arr.dtype)\n",
    "\n",
    "\n",
    "str_arr = int_arr.astype(str)\n",
    "print(str_arr.dtype)"
   ]
  },
  {
   "cell_type": "markdown",
   "id": "a6c8818f-b1ec-48f1-9be3-bcca35869e6d",
   "metadata": {},
   "source": [
    "✅ So your results are:\n",
    "\n",
    "int32 → original integer array\n",
    "\n",
    "float64 → after .astype(float)\n",
    "\n",
    "<U11 → after .astype(str)\n",
    "\n",
    "<U11 means: Unicode string with a maximum length of 11 characters per element.\n",
    "\n",
    "Example: 1 → '1', 2 → '2', etc.\n",
    "\n",
    "NumPy automatically picks the string length big enough to hold the largest value."
   ]
  },
  {
   "cell_type": "code",
   "execution_count": 38,
   "id": "e0b71351-d368-4e67-8821-f4c72c077d84",
   "metadata": {},
   "outputs": [
    {
     "name": "stdout",
     "output_type": "stream",
     "text": [
      "[1 2 5 9]\n"
     ]
    }
   ],
   "source": [
    "# 2 Create an array of floating numbers [1.5, 2.3, 5.7, 9.9] and convert it to integers using .astype(int).\n",
    "floating_numbers = np.array([1.5, 2.3, 5.7, 9.9])\n",
    "str_conversion = floating_numbers.astype(int)\n",
    "print(str_conversion)\n"
   ]
  },
  {
   "cell_type": "code",
   "execution_count": 42,
   "id": "d43a92a3-1400-4545-9230-f664ad05090e",
   "metadata": {},
   "outputs": [
    {
     "name": "stdout",
     "output_type": "stream",
     "text": [
      "[1 2 3 4 5 6 7 8]\n",
      "[[1 2 3 4]\n",
      " [5 6 7 8]]\n"
     ]
    }
   ],
   "source": [
    "# 3 Create a 1D array of size 8 with values from 1 to 8, then reshape it into a 2D array of shape (2, 4).\n",
    "\n",
    "array_1d = np.arange(1,9)\n",
    "print(array_1d)\n",
    "reshapeArr = np.reshape(array_1d,(2, 4))\n",
    "print(reshapeArr)"
   ]
  },
  {
   "cell_type": "code",
   "execution_count": 44,
   "id": "8498f18e-2fc9-44b4-ab8c-1283f19d9a3d",
   "metadata": {},
   "outputs": [
    {
     "name": "stdout",
     "output_type": "stream",
     "text": [
      "0 1 3\n"
     ]
    }
   ],
   "source": [
    "# 4 Check the number of dimensions (ndim) for a scalar, a 1D array, and a 3D array.\n",
    "\n",
    "\n",
    "# Scalar (just a single number, 0D array)\n",
    "scalar = np.array(7) \n",
    "\n",
    "# 1D array (like a list)\n",
    "arr_1d = np.array([1, 2, 3, 4, 5]) \n",
    "\n",
    "# 3D array (a cube of numbers)\n",
    "arr_3d = np.array([\n",
    "    [[1, 2, 3], [4, 5, 6]],\n",
    "    [[7, 8, 9], [10, 11, 12]]\n",
    "])\n",
    "\n",
    "print(scalar.ndim, arr_1d.ndim, arr_3d.ndim)"
   ]
  },
  {
   "cell_type": "markdown",
   "id": "c8cbf2ae-9bea-4406-99c5-aff2e4e9a8c1",
   "metadata": {},
   "source": [
    "---\n",
    "\n",
    "### ➕ C. Math Operations (No Loops)\n",
    "\n",
    "  - Create two arrays of shape (2, 3) and:\n",
    "      - Add them    \n",
    "      - Subtract them\n",
    "      - Multiply them\n",
    "      - Divide them\n",
    "  - Create an array from 1 to 10.\n",
    "      - Square each element using ** 2.\n",
    "      - Add 5 to each element using +.\n",
    "  \n",
    "  - Create two arrays:\n",
    "      - a = [10, 20, 30, 40]\n",
    "      - b = [1, 2, 3, 4]\n",
    "    Perform addition, subtraction, multiplication, division, and exponentiation between them.\n",
    "\n",
    "  -  Given array arr = np.array([5, 10, 15, 20]), add 10 to every element without using a loop.\n",
    "\n",
    "  - Multiply a 3×3 matrix by 2 directly (no loops).\n"
   ]
  },
  {
   "cell_type": "code",
   "execution_count": 29,
   "id": "1dff3586-4a3c-4a52-a84b-86866834ee51",
   "metadata": {},
   "outputs": [
    {
     "name": "stdout",
     "output_type": "stream",
     "text": [
      "[[11 22 33]\n",
      " [44 55 66]]\n"
     ]
    }
   ],
   "source": [
    "# Create two arrays of shape (2, 3) and:\n",
    "# Add them\n",
    "# Subtract them\n",
    "# Multiply them\n",
    "# Divide them\n",
    "\n",
    "\n",
    "arr1 = np.array([\n",
    "    [10, 20, 30],\n",
    "    [40, 50, 60]\n",
    "])\n",
    "arr2 = np.array([\n",
    "    [1, 2, 3],\n",
    "    [4, 5, 6]\n",
    "])\n",
    "print(arr1 + arr2)\n",
    "\n",
    "\n"
   ]
  },
  {
   "cell_type": "code",
   "execution_count": 27,
   "id": "0b8a0a94-7453-4196-a4eb-e58e67e153c4",
   "metadata": {},
   "outputs": [
    {
     "name": "stdout",
     "output_type": "stream",
     "text": [
      "Array Elements:  [ 1  2  3  4  5  6  7  8  9 10]\n",
      "Square of Array:  [  1   4   9  16  25  36  49  64  81 100]\n",
      "Add 5 to Array:  [ 6  7  8  9 10 11 12 13 14 15]\n"
     ]
    }
   ],
   "source": [
    "# Create an array from 1 to 10.\n",
    "\n",
    "# Square each element using ** 2.\n",
    "# Add 5 to each element using +.\n",
    "\n",
    "\n",
    "array = np.arange(1,11)\n",
    "print('Array Elements: ', array)\n",
    "print('Square of Array: ', array ** 2)\n",
    "print('Add 5 to Array: ', array + 5)"
   ]
  },
  {
   "cell_type": "code",
   "execution_count": 35,
   "id": "2e8b9e6a-0973-415b-8357-3cf53907bd13",
   "metadata": {},
   "outputs": [
    {
     "name": "stdout",
     "output_type": "stream",
     "text": [
      "addition: [11 22 33 44] \n",
      "subtraction: [ 9 18 27 36] \n",
      "multiplication: [ 10  40  90 160] \n",
      "division: [10. 10. 10. 10.]\n"
     ]
    }
   ],
   "source": [
    "# Create two arrays:\n",
    "\n",
    "# a = [10, 20, 30, 40]\n",
    "# b = [1, 2, 3, 4] Perform addition, subtraction, multiplication, division, and exponentiation between them. \n",
    "\n",
    "a = [10, 20, 30, 40]\n",
    "b = [1, 2, 3, 4] \n",
    "\n",
    "\n",
    "a = np.array([10, 20, 30, 40])\n",
    "b = np.array([1, 2, 3, 4])\n",
    "print(f'addition: {a+b} \\nsubtraction: {a-b} \\nmultiplication: {a*b} \\ndivision: {a/b}')\n"
   ]
  },
  {
   "cell_type": "code",
   "execution_count": 49,
   "id": "3eb902e6-9b2f-45d3-b9d0-0232a4ed36d5",
   "metadata": {},
   "outputs": [
    {
     "name": "stdout",
     "output_type": "stream",
     "text": [
      "Adding 10 to array = [ 5 10 15 20] -> [15 20 25 30]\n"
     ]
    }
   ],
   "source": [
    "# Given array arr = np.array([5, 10, 15, 20]), add 10 to every element without using a loop.\n",
    "arr = np.array([5, 10, 15, 20])\n",
    "print(f'Adding 10 to array = {arr} -> {arr + 10}')"
   ]
  },
  {
   "cell_type": "code",
   "execution_count": 53,
   "id": "6c8ba916-2926-44c9-b411-24ba29ec99ac",
   "metadata": {},
   "outputs": [
    {
     "name": "stdout",
     "output_type": "stream",
     "text": [
      "Multiply a 3×3 matrix by 2 directly \n",
      "[[[ 2  4  6]\n",
      "  [ 8 10 12]\n",
      "  [14 16 18]]\n",
      "\n",
      " [[ 2  4  6]\n",
      "  [ 8 10 12]\n",
      "  [14 16 18]]\n",
      "\n",
      " [[ 2  4  6]\n",
      "  [ 8 10 12]\n",
      "  [14 16 18]]]\n"
     ]
    }
   ],
   "source": [
    "# Multiply a 3×3 matrix by 2 directly (no loops).\n",
    "\n",
    "matrix = np.array([\n",
    "    [[1,2,3], [4,5,6], [7,8,9]],\n",
    "    [[1,2,3], [4,5,6], [7,8,9]],\n",
    "    [[1,2,3], [4,5,6], [7,8,9]]\n",
    "])\n",
    "\n",
    "print(f'Multiply a 3×3 matrix by 2 directly \\n{matrix * 2}')"
   ]
  },
  {
   "cell_type": "markdown",
   "id": "d285758c-1de7-4b1e-9947-f45e56100eee",
   "metadata": {},
   "source": [
    "---\n",
    "## 📊 D. Aggregation Functions\n",
    "\n",
    "    Create a 2D array of random integers from 10 to 50 of shape (3, 4).\n",
    "       - Find sum, mean, min, max, std, var.\n",
    "    \n",
    "    From the same array:\n",
    "        Find the sum of each row (axis=1)\n",
    "        Find the mean of each column (axis=0)\n",
    "\n",
    "    Create a NumPy array of numbers from 1 to 25.\n",
    "        Find its sum, mean, min, max, standard deviation, and variance.\n",
    "\n",
    "    Given a 2D array:   \n",
    "        arr = np.array([[1,2,3],\n",
    "                        [4,5,6],\n",
    "                        [7,8,9]])    \n",
    "    \n",
    "        Find the sum of all elements.\n",
    "        Find the sum along rows (axis=1).        \n",
    "        Find the sum along columns (axis=0)."
   ]
  },
  {
   "cell_type": "code",
   "execution_count": 22,
   "id": "08d9a257-921c-4028-9551-64a200606666",
   "metadata": {},
   "outputs": [
    {
     "name": "stdout",
     "output_type": "stream",
     "text": [
      "[[43 46 44 24]\n",
      " [41 26 43 33]\n",
      " [48 17 37 18]]\n",
      "2\n",
      "420 35.0 17 48 10.637982264821966 113.16666666666667\n"
     ]
    }
   ],
   "source": [
    "# Create a 2D array of random integers from 10 to 50 of shape (3, 4).\n",
    "#    - Find sum, mean, min, max, std, var.\n",
    "\n",
    "# array_2d = np.arange(10,51)  #-- didn't able to generate randon digits\n",
    "\n",
    "array_2d = np.random.randint(10,50,(3,4))\n",
    "print(array_2d)\n",
    "\n",
    "print(array_2d.ndim)\n",
    "\n",
    "print(array_2d.sum(), array_2d.mean(), array_2d.min(), array_2d.max(), array_2d.std(), array_2d.var())\n"
   ]
  },
  {
   "cell_type": "code",
   "execution_count": 28,
   "id": "77740ba1-8428-48c2-ab13-396903a69c7b",
   "metadata": {},
   "outputs": [
    {
     "name": "stdout",
     "output_type": "stream",
     "text": [
      "[157 143 120]\n",
      "[44.         29.66666667 41.33333333 25.        ]\n"
     ]
    }
   ],
   "source": [
    "# 2 From the same array:\n",
    "#     Find the sum of each row (axis=1)\n",
    "#     Find the mean of each column (axis=0)\n",
    "\n",
    "\n",
    "print(np.sum(array_2d, axis = 1))  #🔹 This adds numbers **across each row**\n",
    "print(np.mean(array_2d, axis = 0)) #🔹 This calculates **average down each column**"
   ]
  },
  {
   "cell_type": "code",
   "execution_count": 32,
   "id": "f0a77c31-7df5-4fd7-812d-2cff2eb49dea",
   "metadata": {},
   "outputs": [
    {
     "name": "stdout",
     "output_type": "stream",
     "text": [
      "300 12.5 1 6.922186552431729 47.916666666666664\n"
     ]
    }
   ],
   "source": [
    "# Create a NumPy array of numbers from 1 to 25.\n",
    "#     Find its sum, mean, min, max, standard deviation, and variance.\n",
    "\n",
    "NumPyArray = np.arange(1,25)\n",
    "print(NumPyArray.sum(), NumPyArray.mean(), NumPyArray.min(), NumPyArray.std(), NumPyArray.var())\n"
   ]
  },
  {
   "cell_type": "code",
   "execution_count": 34,
   "id": "0a13e77f-4308-43e2-bc2f-75f3398de341",
   "metadata": {},
   "outputs": [
    {
     "name": "stdout",
     "output_type": "stream",
     "text": [
      "sum of all elements  45\n",
      "sum along rows (axis=1) [ 6 15 24]\n",
      "sum along rows (axis=0) [12 15 18]\n"
     ]
    }
   ],
   "source": [
    "# Given a 2D array:\n",
    "#     Find the sum of all elements.\n",
    "#     Find the sum along rows (axis=1).        \n",
    "#     Find the sum along columns (axis=0).\n",
    "\n",
    "arr = np.array([[1,2,3],\n",
    "                [4,5,6],\n",
    "                [7,8,9]])  \n",
    "print('sum of all elements ', arr.sum())\n",
    "print('sum along rows (axis=1)', np.sum(arr, axis=1))\n",
    "print('sum along rows (axis=0)', np.sum(arr, axis=0))\n",
    "\n"
   ]
  },
  {
   "cell_type": "markdown",
   "id": "d580a533-c8ec-427f-ac14-2d2a9f27faea",
   "metadata": {},
   "source": [
    "\n",
    "\n",
    "| Goal                  | Function              | Works with reshape?      |\n",
    "| --------------------- | --------------------- | ------------------------ |\n",
    "| Sequential values     | `np.arange()`         | ✅ yes                    |\n",
    "| Random integer values | `np.random.randint()` | ✅ directly creates shape |\n",
    " \n",
    "### 📌 `numpy.random.randint()` — Syntax\n",
    "\n",
    "```python\n",
    "numpy.random.randint(low, high=None, size=None, dtype=int)\n",
    "```\n",
    "\n",
    "---\n",
    "\n",
    "### 📖 Parameters\n",
    "\n",
    "| Parameter | Description                                                                     |\n",
    "| --------- | ------------------------------------------------------------------------------- |\n",
    "| `low`     | Lowest (inclusive) integer that can be drawn                                    |\n",
    "| `high`    | Highest (exclusive) integer (optional). If not given, `0` to `low` will be used |\n",
    "| `size`    | Shape (number of elements) of the output array — e.g. `(3, 4)`                  |\n",
    "| `dtype`   | Data type of output (default is `int`)                                          |\n",
    "\n",
    "---\n",
    "\n",
    "### ⚡ Example\n",
    "\n",
    "```python\n",
    "import numpy as np\n",
    "\n",
    "# random integers from 10 (inclusive) to 50 (exclusive), shape (3,4)\n",
    "arr = np.random.randint(10, 51, size=(3, 4))\n",
    "print(arr)\n",
    "```\n",
    "\n",
    "**Output (example):**\n",
    "\n",
    "```\n",
    "[[32 45 21 19]\n",
    " [50 11 40 23]\n",
    " [18 44 29 13]]\n",
    "```\n",
    "\n",
    "---\n",
    "\n",
    "\n",
    "### 🧮 `axis` meaning\n",
    "\n",
    "* **axis=0 → column-wise (downwards)**\n",
    "* **axis=1 → row-wise (across)**\n",
    "\n",
    "---\n",
    "\n",
    "### 💡 1. Sum of each row → `axis=1`\n",
    "\n",
    "```python\n",
    "np.sum(arr, axis=1)\n",
    "```\n",
    "\n",
    "🔹 This adds numbers **across each row**\n",
    "🔹 Output: 1D array with sum of each row\n",
    "\n",
    "---\n",
    "\n",
    "### 💡 2. Mean of each column → `axis=0`\n",
    "\n",
    "```python\n",
    "np.mean(arr, axis=0)\n",
    "```\n",
    "\n",
    "🔹 This calculates **average down each column**\n",
    "🔹 Output: 1D array with mean of each column\n",
    "\n",
    "--- \n"
   ]
  },
  {
   "cell_type": "markdown",
   "id": "cfc1df78-5315-486f-90a8-0faaff996483",
   "metadata": {},
   "source": [
    "---\n",
    "## 🧠 E. Mixed Challenge\n",
    "\n",
    "    Make a 1D array of values from 0 to 15.\n",
    "    \n",
    "        Reshape it into shape (3, 5)\n",
    "        Convert to float        \n",
    "        Multiply all elements by 10\n",
    "        Find the maximum value and its index (np.argmax())\n",
    "\n",
    "    Create a 1D array of numbers from 1 to 10, then square every element.\n",
    "\n",
    "    Generate a 2D array (4×4) with values from 1 to 16. Extract:\n",
    "        The first row    \n",
    "        The last column    \n",
    "        A 2×2 sub-matrix from the middle\n",
    "    \n",
    "    Create a 1D array of 10 random integers between 1 and 100.\n",
    "        Find the maximum and minimum value.\n",
    "        Find the index of the maximum and minimum value."
   ]
  },
  {
   "cell_type": "code",
   "execution_count": 45,
   "id": "9c5d2818-de54-44d9-b701-82af31b7b772",
   "metadata": {},
   "outputs": [
    {
     "name": "stdout",
     "output_type": "stream",
     "text": [
      "[ 0  1  2  3  4  5  6  7  8  9 10 11 12 13 14]\n",
      "Reshape into shape (3, 5) \n",
      " [[ 0  1  2  3  4]\n",
      " [ 5  6  7  8  9]\n",
      " [10 11 12 13 14]]\n",
      "Convert to float \n",
      " [ 0.  1.  2.  3.  4.  5.  6.  7.  8.  9. 10. 11. 12. 13. 14.]\n",
      "Multiply all elements by 10  \n",
      " [  0  10  20  30  40  50  60  70  80  90 100 110 120 130 140]\n",
      "maximum value \n",
      " 14\n",
      "index \n",
      " 14\n"
     ]
    }
   ],
   "source": [
    "# Make a 1D array of values from 0 to 15.\n",
    "\n",
    "#     Reshape it into shape (3, 5)\n",
    "#     Convert to float        \n",
    "#     Multiply all elements by 10\n",
    "#     Find the maximum value and its index (np.argmax())\n",
    "\n",
    "Array1D = np.arange(0,15)\n",
    "\n",
    "print(Array1D)\n",
    "print('Reshape into shape (3, 5) \\n', np.reshape(Array1D, (3, 5)))\n",
    "print('Convert to float \\n', Array1D.astype(float))\n",
    "print('Multiply all elements by 10  \\n', Array1D * 10)\n",
    "print('maximum value \\n', Array1D.max())\n",
    "print('index \\n', np.argmax(Array1D))"
   ]
  },
  {
   "cell_type": "markdown",
   "id": "dd859805-0672-4553-9372-37e25e327c38",
   "metadata": {},
   "source": [
    "\n",
    "\n",
    "## 🧠 `np.argmax()` — Meaning\n",
    "\n",
    "**`argmax()`** gives the **index (position)** of the **maximum value** in an array.\n",
    " \n",
    "\n",
    "### 📌 Syntax\n",
    "\n",
    "```python\n",
    "np.argmax(array, axis=None)\n",
    "```\n",
    "\n",
    "* `axis=None` → gives the position in the **flattened (1D) array**\n",
    "* `axis=0` → gives the index of the max value **in each column**\n",
    "* `axis=1` → gives the index of the max value **in each row**\n",
    " \n"
   ]
  },
  {
   "cell_type": "code",
   "execution_count": 81,
   "id": "12ca18ed-be0e-43a1-b536-dd4aca840438",
   "metadata": {},
   "outputs": [
    {
     "name": "stdout",
     "output_type": "stream",
     "text": [
      "[1 2 3 4 5 6 7 8 9]\n",
      "square every element [ 1  4  9 16 25 36 49 64 81]\n",
      "[[ 1  2  3  4]\n",
      " [ 5  6  7  8]\n",
      " [ 9 10 11 12]\n",
      " [13 14 15 16]]\n",
      "The first row  [1 2 3 4]\n",
      "The last column  [13 14 15 16]\n",
      "A 2×2 sub-matrix from the middle \n",
      " [[ 6  7]\n",
      " [10 11]]\n"
     ]
    }
   ],
   "source": [
    "# Create a 1D array of numbers from 1 to 10, then square every element.\n",
    "\n",
    "arr1 = np.arange(1,10)\n",
    "print(arr1)\n",
    "print('square every element', arr1 ** 2)\n",
    "\n",
    "# Generate a 2D array (4×4) with values from 1 to 16. Extract:\n",
    "#     The first row    \n",
    "#     The last column    \n",
    "#     A 2×2 sub-matrix from the middle\n",
    "\n",
    "arr2d = np.arange(1,17).reshape(4,4)\n",
    "print(arr2d)\n",
    "print('The first row ', arr2d[0])\n",
    "print('The last column ',arr2d[-1] )\n",
    "\n",
    "subArray = arr2d[1:3, 1:3]\n",
    "print('A 2×2 sub-matrix from the middle \\n', subArray)"
   ]
  },
  {
   "cell_type": "markdown",
   "id": "d822c5d7-78fa-409b-9bbc-b22b61002848",
   "metadata": {},
   "source": [
    "✅ **Summary — 2×2 Sub-matrix in NumPy**\n",
    "* Use slicing:\n",
    "\n",
    "  ```python\n",
    "  arr[start_row:start_row+2, start_col:start_col+2]\n",
    "  ```\n",
    "\n",
    "* **Rules:**\n",
    "\n",
    "  * `start_row` → starting row index\n",
    "  * `start_col` → starting column index\n",
    "  * `end` index is **excluded**\n",
    "\n",
    "* This selects a **2×2 block** from the given 2D array.\n",
    "\n"
   ]
  },
  {
   "cell_type": "code",
   "execution_count": 92,
   "id": "b9f398f4-11ee-42c4-9382-508e457680ff",
   "metadata": {},
   "outputs": [
    {
     "name": "stdout",
     "output_type": "stream",
     "text": [
      "[43 77 35 95 27 55 27 63 22 54]\n",
      "maximum value: 95 and minimum value: 22\n",
      "index of the maximum value: 3 and minimum value: 8\n"
     ]
    }
   ],
   "source": [
    "# Create a 1D array of 10 random integers between 1 and 100.\n",
    "#     Find the maximum and minimum value.\n",
    "#     Find the index of the maximum and minimum value.\n",
    "\n",
    "randomInt = np.random.randint(1,100, 10)\n",
    "print(randomInt)\n",
    "print(f'maximum value: {randomInt.max()} and minimum value: {randomInt.min()}')\n",
    "print(f'index of the maximum value: {np.argmax(randomInt)} and minimum value: {np.argmin(randomInt)}')"
   ]
  }
 ],
 "metadata": {
  "kernelspec": {
   "display_name": "Python 3 (ipykernel)",
   "language": "python",
   "name": "python3"
  },
  "language_info": {
   "codemirror_mode": {
    "name": "ipython",
    "version": 3
   },
   "file_extension": ".py",
   "mimetype": "text/x-python",
   "name": "python",
   "nbconvert_exporter": "python",
   "pygments_lexer": "ipython3",
   "version": "3.12.7"
  }
 },
 "nbformat": 4,
 "nbformat_minor": 5
}
