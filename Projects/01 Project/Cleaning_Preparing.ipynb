{
 "cells": [
  {
   "cell_type": "code",
   "execution_count": 1,
   "id": "8ed22979",
   "metadata": {},
   "outputs": [],
   "source": [
    "import pandas as pd\n",
    "import numpy as np"
   ]
  },
  {
   "cell_type": "code",
   "execution_count": 15,
   "id": "0f982b00",
   "metadata": {},
   "outputs": [
    {
     "name": "stdout",
     "output_type": "stream",
     "text": [
      "<class 'pandas.core.frame.DataFrame'>\n",
      "RangeIndex: 22214 entries, 0 to 22213\n",
      "Data columns (total 13 columns):\n",
      " #   Column          Non-Null Count  Dtype \n",
      "---  ------          --------------  ----- \n",
      " 0   id              22214 non-null  object\n",
      " 1   first_name      22214 non-null  object\n",
      " 2   last_name       22214 non-null  object\n",
      " 3   birthdate       22214 non-null  object\n",
      " 4   gender          22214 non-null  object\n",
      " 5   race            22214 non-null  object\n",
      " 6   department      22214 non-null  object\n",
      " 7   jobtitle        22214 non-null  object\n",
      " 8   location        22214 non-null  object\n",
      " 9   hire_date       22214 non-null  object\n",
      " 10  termdate        3929 non-null   object\n",
      " 11  location_city   22214 non-null  object\n",
      " 12  location_state  22214 non-null  object\n",
      "dtypes: object(13)\n",
      "memory usage: 2.2+ MB\n"
     ]
    }
   ],
   "source": [
    "\n",
    "df = pd.read_csv('Human Resources.csv')\n",
    "\n",
    "df.head() \n",
    "df.describe()\n",
    "df.dtypes\n",
    "df.info()\n"
   ]
  },
  {
   "cell_type": "code",
   "execution_count": 25,
   "id": "a95b7383",
   "metadata": {},
   "outputs": [],
   "source": [
    "df['Full_name'] = df['first_name'] + \" \" +df['last_name']\n",
    "\n",
    "df = df.drop(['first_name', 'last_name'], axis = 1)\n",
    "\n"
   ]
  },
  {
   "cell_type": "code",
   "execution_count": 22,
   "id": "129131b8",
   "metadata": {},
   "outputs": [
    {
     "name": "stdout",
     "output_type": "stream",
     "text": [
      "<class 'pandas.core.frame.DataFrame'>\n",
      "RangeIndex: 22214 entries, 0 to 22213\n",
      "Data columns (total 14 columns):\n",
      " #   Column          Non-Null Count  Dtype \n",
      "---  ------          --------------  ----- \n",
      " 0   id              22214 non-null  object\n",
      " 1   first_name      22214 non-null  object\n",
      " 2   last_name       22214 non-null  object\n",
      " 3   birthdate       22214 non-null  object\n",
      " 4   gender          22214 non-null  object\n",
      " 5   race            22214 non-null  object\n",
      " 6   department      22214 non-null  object\n",
      " 7   jobtitle        22214 non-null  object\n",
      " 8   location        22214 non-null  object\n",
      " 9   hire_date       22214 non-null  object\n",
      " 10  termdate        3929 non-null   object\n",
      " 11  location_city   22214 non-null  object\n",
      " 12  location_state  22214 non-null  object\n",
      " 13  Full_name       22214 non-null  object\n",
      "dtypes: object(14)\n",
      "memory usage: 2.4+ MB\n"
     ]
    }
   ],
   "source": [
    "df.info()"
   ]
  },
  {
   "cell_type": "code",
   "execution_count": 26,
   "id": "8b8ec4d7",
   "metadata": {},
   "outputs": [
    {
     "name": "stdout",
     "output_type": "stream",
     "text": [
      "<class 'pandas.core.frame.DataFrame'>\n",
      "RangeIndex: 22214 entries, 0 to 22213\n",
      "Data columns (total 12 columns):\n",
      " #   Column          Non-Null Count  Dtype              \n",
      "---  ------          --------------  -----              \n",
      " 0   id              22214 non-null  string             \n",
      " 1   birthdate       22214 non-null  datetime64[ns, UTC]\n",
      " 2   gender          22214 non-null  category           \n",
      " 3   race            22214 non-null  category           \n",
      " 4   department      22214 non-null  category           \n",
      " 5   jobtitle        22214 non-null  category           \n",
      " 6   location        22214 non-null  category           \n",
      " 7   hire_date       13497 non-null  datetime64[ns, UTC]\n",
      " 8   termdate        3929 non-null   datetime64[ns, UTC]\n",
      " 9   location_city   22214 non-null  category           \n",
      " 10  location_state  22214 non-null  category           \n",
      " 11  Full_name       22214 non-null  category           \n",
      "dtypes: category(8), datetime64[ns, UTC](3), string(1)\n",
      "memory usage: 1.6 MB\n"
     ]
    }
   ],
   "source": [
    "\n",
    "# Convert type for memory \n",
    "df = df.astype({'id':'string', 'Full_name':'category', 'gender': 'category', 'race': 'category',\n",
    "           'department':'category', 'jobtitle': 'category', 'location': 'category','location_city':'category', 'location_state':'category' })\n",
    "\n",
    "\n",
    "\n",
    "# Convert dates \n",
    "df['hire_date'] = pd.to_datetime(df['hire_date'], utc=True,  errors='coerce')\n",
    "df['termdate'] = pd.to_datetime(df['termdate'], utc=True, errors='coerce')\n",
    "df['birthdate'] = pd.to_datetime(df['birthdate'],utc=True, errors='coerce')\n",
    "\n",
    "df.info()\n"
   ]
  },
  {
   "cell_type": "code",
   "execution_count": 34,
   "id": "d5bd7e6a",
   "metadata": {},
   "outputs": [
    {
     "name": "stdout",
     "output_type": "stream",
     "text": [
      "13497\n"
     ]
    },
    {
     "data": {
      "text/plain": [
       "np.int64(8717)"
      ]
     },
     "execution_count": 34,
     "metadata": {},
     "output_type": "execute_result"
    }
   ],
   "source": [
    "print(df['hire_date'].notnull().sum())\n",
    "df['hire_date'].isnull().sum()"
   ]
  },
  {
   "cell_type": "markdown",
   "id": "ac424ca9",
   "metadata": {},
   "source": [
    "### As column contains  8717 null values betterto "
   ]
  },
  {
   "cell_type": "code",
   "execution_count": 35,
   "id": "3081092f",
   "metadata": {},
   "outputs": [
    {
     "data": {
      "text/plain": [
       "np.float64(39.241019177095524)"
      ]
     },
     "execution_count": 35,
     "metadata": {},
     "output_type": "execute_result"
    }
   ],
   "source": [
    "df['hire_date'].isnull().mean() * 100"
   ]
  },
  {
   "cell_type": "code",
   "execution_count": 38,
   "id": "32df75c8",
   "metadata": {},
   "outputs": [
    {
     "data": {
      "text/plain": [
       "{'total_rows': 22214,\n",
       " 'filled_missing_hire_dates': np.int64(8717),\n",
       " 'min_hire_date': '2000-10-17 00:00:00+00:00',\n",
       " 'max_hire_date': '2020-12-13 00:00:00+00:00',\n",
       " 'still_missing_after_fill': np.int64(0)}"
      ]
     },
     "execution_count": 38,
     "metadata": {},
     "output_type": "execute_result"
    }
   ],
   "source": [
    "# Find valid hire date range\n",
    "min_date = df['hire_date'].min()\n",
    "max_date = df['hire_date'].max()\n",
    "\n",
    "# Fill missing hire_date values randomly within valid range\n",
    "num_missing = df['hire_date'].isnull().sum()\n",
    "random_dates = pd.to_datetime(\n",
    "    np.random.choice(pd.date_range(min_date, max_date), num_missing)\n",
    ")\n",
    "\n",
    "df.loc[df['hire_date'].isnull(), 'hire_date'] = random_dates\n",
    "\n",
    "\n",
    "# Verify results\n",
    "filled_info = {\n",
    "    \"total_rows\": len(df),\n",
    "    \"filled_missing_hire_dates\": num_missing,\n",
    "    \"min_hire_date\": str(min_date),\n",
    "    \"max_hire_date\": str(max_date),\n",
    "    \"still_missing_after_fill\": df['hire_date'].isnull().sum()\n",
    "}\n",
    "\n",
    "filled_info"
   ]
  },
  {
   "cell_type": "code",
   "execution_count": 30,
   "id": "b1da472c",
   "metadata": {},
   "outputs": [
    {
     "data": {
      "text/plain": [
       "Index(['id', 'birthdate', 'gender', 'race', 'department', 'jobtitle',\n",
       "       'location', 'hire_date', 'termdate', 'location_city', 'location_state',\n",
       "       'Full_name'],\n",
       "      dtype='object')"
      ]
     },
     "execution_count": 30,
     "metadata": {},
     "output_type": "execute_result"
    }
   ],
   "source": [
    "df.columns"
   ]
  },
  {
   "cell_type": "code",
   "execution_count": 39,
   "id": "b034d577",
   "metadata": {},
   "outputs": [
    {
     "name": "stdout",
     "output_type": "stream",
     "text": [
      "<class 'pandas.core.frame.DataFrame'>\n",
      "RangeIndex: 22214 entries, 0 to 22213\n",
      "Data columns (total 12 columns):\n",
      " #   Column          Non-Null Count  Dtype              \n",
      "---  ------          --------------  -----              \n",
      " 0   id              22214 non-null  string             \n",
      " 1   birthdate       22214 non-null  datetime64[ns, UTC]\n",
      " 2   gender          22214 non-null  category           \n",
      " 3   race            22214 non-null  category           \n",
      " 4   department      22214 non-null  category           \n",
      " 5   jobtitle        22214 non-null  category           \n",
      " 6   location        22214 non-null  category           \n",
      " 7   hire_date       22214 non-null  datetime64[ns, UTC]\n",
      " 8   termdate        3929 non-null   datetime64[ns, UTC]\n",
      " 9   location_city   22214 non-null  category           \n",
      " 10  location_state  22214 non-null  category           \n",
      " 11  Full_name       22214 non-null  category           \n",
      "dtypes: category(8), datetime64[ns, UTC](3), string(1)\n",
      "memory usage: 1.6 MB\n"
     ]
    }
   ],
   "source": [
    "df.info()"
   ]
  },
  {
   "cell_type": "code",
   "execution_count": 43,
   "id": "558b4169",
   "metadata": {},
   "outputs": [
    {
     "data": {
      "text/html": [
       "<div>\n",
       "<style scoped>\n",
       "    .dataframe tbody tr th:only-of-type {\n",
       "        vertical-align: middle;\n",
       "    }\n",
       "\n",
       "    .dataframe tbody tr th {\n",
       "        vertical-align: top;\n",
       "    }\n",
       "\n",
       "    .dataframe thead th {\n",
       "        text-align: right;\n",
       "    }\n",
       "</style>\n",
       "<table border=\"1\" class=\"dataframe\">\n",
       "  <thead>\n",
       "    <tr style=\"text-align: right;\">\n",
       "      <th></th>\n",
       "      <th>id</th>\n",
       "      <th>birthdate</th>\n",
       "      <th>gender</th>\n",
       "      <th>race</th>\n",
       "      <th>department</th>\n",
       "      <th>jobtitle</th>\n",
       "      <th>location</th>\n",
       "      <th>hire_date</th>\n",
       "      <th>termdate</th>\n",
       "      <th>location_city</th>\n",
       "      <th>location_state</th>\n",
       "      <th>Full_name</th>\n",
       "    </tr>\n",
       "  </thead>\n",
       "  <tbody>\n",
       "    <tr>\n",
       "      <th>0</th>\n",
       "      <td>00-0037846</td>\n",
       "      <td>1991-06-04 00:00:00+00:00</td>\n",
       "      <td>Male</td>\n",
       "      <td>Hispanic or Latino</td>\n",
       "      <td>Engineering</td>\n",
       "      <td>Programmer Analyst I</td>\n",
       "      <td>Headquarters</td>\n",
       "      <td>2002-01-20 00:00:00+00:00</td>\n",
       "      <td>NaT</td>\n",
       "      <td>Cleveland</td>\n",
       "      <td>Ohio</td>\n",
       "      <td>Kimmy Walczynski</td>\n",
       "    </tr>\n",
       "    <tr>\n",
       "      <th>1</th>\n",
       "      <td>00-0041533</td>\n",
       "      <td>1984-06-29 00:00:00+00:00</td>\n",
       "      <td>Male</td>\n",
       "      <td>White</td>\n",
       "      <td>Business Development</td>\n",
       "      <td>Business Analyst</td>\n",
       "      <td>Headquarters</td>\n",
       "      <td>2014-12-29 00:00:00+00:00</td>\n",
       "      <td>NaT</td>\n",
       "      <td>Cleveland</td>\n",
       "      <td>Ohio</td>\n",
       "      <td>Ignatius Springett</td>\n",
       "    </tr>\n",
       "    <tr>\n",
       "      <th>2</th>\n",
       "      <td>00-0045747</td>\n",
       "      <td>1989-07-29 00:00:00+00:00</td>\n",
       "      <td>Male</td>\n",
       "      <td>Black or African American</td>\n",
       "      <td>Sales</td>\n",
       "      <td>Solutions Engineer Manager</td>\n",
       "      <td>Headquarters</td>\n",
       "      <td>2009-05-15 00:00:00+00:00</td>\n",
       "      <td>NaT</td>\n",
       "      <td>Cleveland</td>\n",
       "      <td>Ohio</td>\n",
       "      <td>Corbie Bittlestone</td>\n",
       "    </tr>\n",
       "    <tr>\n",
       "      <th>3</th>\n",
       "      <td>00-0055274</td>\n",
       "      <td>1982-09-14 00:00:00+00:00</td>\n",
       "      <td>Female</td>\n",
       "      <td>White</td>\n",
       "      <td>Services</td>\n",
       "      <td>Service Tech</td>\n",
       "      <td>Headquarters</td>\n",
       "      <td>2015-02-22 00:00:00+00:00</td>\n",
       "      <td>NaT</td>\n",
       "      <td>Cleveland</td>\n",
       "      <td>Ohio</td>\n",
       "      <td>Baxy Matton</td>\n",
       "    </tr>\n",
       "    <tr>\n",
       "      <th>4</th>\n",
       "      <td>00-0076100</td>\n",
       "      <td>1994-04-11 00:00:00+00:00</td>\n",
       "      <td>Female</td>\n",
       "      <td>Two or More Races</td>\n",
       "      <td>Product Management</td>\n",
       "      <td>Business Analyst</td>\n",
       "      <td>Remote</td>\n",
       "      <td>2010-09-29 00:00:00+00:00</td>\n",
       "      <td>2029-10-29 06:09:38+00:00</td>\n",
       "      <td>Flint</td>\n",
       "      <td>Michigan</td>\n",
       "      <td>Terrell Suff</td>\n",
       "    </tr>\n",
       "    <tr>\n",
       "      <th>...</th>\n",
       "      <td>...</td>\n",
       "      <td>...</td>\n",
       "      <td>...</td>\n",
       "      <td>...</td>\n",
       "      <td>...</td>\n",
       "      <td>...</td>\n",
       "      <td>...</td>\n",
       "      <td>...</td>\n",
       "      <td>...</td>\n",
       "      <td>...</td>\n",
       "      <td>...</td>\n",
       "      <td>...</td>\n",
       "    </tr>\n",
       "    <tr>\n",
       "      <th>22209</th>\n",
       "      <td>99-9797418</td>\n",
       "      <td>1998-07-08 00:00:00+00:00</td>\n",
       "      <td>Female</td>\n",
       "      <td>Hispanic or Latino</td>\n",
       "      <td>Research and Development</td>\n",
       "      <td>Research Assistant I</td>\n",
       "      <td>Headquarters</td>\n",
       "      <td>2016-12-18 00:00:00+00:00</td>\n",
       "      <td>NaT</td>\n",
       "      <td>Cleveland</td>\n",
       "      <td>Ohio</td>\n",
       "      <td>Dorella Garvan</td>\n",
       "    </tr>\n",
       "    <tr>\n",
       "      <th>22210</th>\n",
       "      <td>99-9869877</td>\n",
       "      <td>2001-04-19 00:00:00+00:00</td>\n",
       "      <td>Female</td>\n",
       "      <td>Two or More Races</td>\n",
       "      <td>Services</td>\n",
       "      <td>Service Manager</td>\n",
       "      <td>Headquarters</td>\n",
       "      <td>2005-05-06 00:00:00+00:00</td>\n",
       "      <td>NaT</td>\n",
       "      <td>Cleveland</td>\n",
       "      <td>Ohio</td>\n",
       "      <td>Dasie Thorsby</td>\n",
       "    </tr>\n",
       "    <tr>\n",
       "      <th>22211</th>\n",
       "      <td>99-9919822</td>\n",
       "      <td>2070-02-09 00:00:00+00:00</td>\n",
       "      <td>Female</td>\n",
       "      <td>Two or More Races</td>\n",
       "      <td>Training</td>\n",
       "      <td>Junior Trainer</td>\n",
       "      <td>Headquarters</td>\n",
       "      <td>2020-04-11 00:00:00+00:00</td>\n",
       "      <td>NaT</td>\n",
       "      <td>Cleveland</td>\n",
       "      <td>Ohio</td>\n",
       "      <td>Nerty Wilding</td>\n",
       "    </tr>\n",
       "    <tr>\n",
       "      <th>22212</th>\n",
       "      <td>99-9960380</td>\n",
       "      <td>1985-09-02 00:00:00+00:00</td>\n",
       "      <td>Male</td>\n",
       "      <td>Two or More Races</td>\n",
       "      <td>Accounting</td>\n",
       "      <td>Staff Accountant I</td>\n",
       "      <td>Headquarters</td>\n",
       "      <td>2015-07-06 00:00:00+00:00</td>\n",
       "      <td>2012-12-10 14:29:59+00:00</td>\n",
       "      <td>Cleveland</td>\n",
       "      <td>Ohio</td>\n",
       "      <td>Mabelle Dawks</td>\n",
       "    </tr>\n",
       "    <tr>\n",
       "      <th>22213</th>\n",
       "      <td>99-9963543</td>\n",
       "      <td>1999-07-10 00:00:00+00:00</td>\n",
       "      <td>Female</td>\n",
       "      <td>White</td>\n",
       "      <td>Engineering</td>\n",
       "      <td>Software Engineer III</td>\n",
       "      <td>Remote</td>\n",
       "      <td>2018-03-27 00:00:00+00:00</td>\n",
       "      <td>NaT</td>\n",
       "      <td>Fort Wayne</td>\n",
       "      <td>Indiana</td>\n",
       "      <td>Carroll Chattaway</td>\n",
       "    </tr>\n",
       "  </tbody>\n",
       "</table>\n",
       "<p>22214 rows × 12 columns</p>\n",
       "</div>"
      ],
      "text/plain": [
       "               id                 birthdate  gender  \\\n",
       "0      00-0037846 1991-06-04 00:00:00+00:00    Male   \n",
       "1      00-0041533 1984-06-29 00:00:00+00:00    Male   \n",
       "2      00-0045747 1989-07-29 00:00:00+00:00    Male   \n",
       "3      00-0055274 1982-09-14 00:00:00+00:00  Female   \n",
       "4      00-0076100 1994-04-11 00:00:00+00:00  Female   \n",
       "...           ...                       ...     ...   \n",
       "22209  99-9797418 1998-07-08 00:00:00+00:00  Female   \n",
       "22210  99-9869877 2001-04-19 00:00:00+00:00  Female   \n",
       "22211  99-9919822 2070-02-09 00:00:00+00:00  Female   \n",
       "22212  99-9960380 1985-09-02 00:00:00+00:00    Male   \n",
       "22213  99-9963543 1999-07-10 00:00:00+00:00  Female   \n",
       "\n",
       "                            race                department  \\\n",
       "0             Hispanic or Latino               Engineering   \n",
       "1                          White      Business Development   \n",
       "2      Black or African American                     Sales   \n",
       "3                          White                  Services   \n",
       "4              Two or More Races        Product Management   \n",
       "...                          ...                       ...   \n",
       "22209         Hispanic or Latino  Research and Development   \n",
       "22210          Two or More Races                  Services   \n",
       "22211          Two or More Races                  Training   \n",
       "22212          Two or More Races                Accounting   \n",
       "22213                      White               Engineering   \n",
       "\n",
       "                         jobtitle      location                 hire_date  \\\n",
       "0            Programmer Analyst I  Headquarters 2002-01-20 00:00:00+00:00   \n",
       "1                Business Analyst  Headquarters 2014-12-29 00:00:00+00:00   \n",
       "2      Solutions Engineer Manager  Headquarters 2009-05-15 00:00:00+00:00   \n",
       "3                    Service Tech  Headquarters 2015-02-22 00:00:00+00:00   \n",
       "4                Business Analyst        Remote 2010-09-29 00:00:00+00:00   \n",
       "...                           ...           ...                       ...   \n",
       "22209        Research Assistant I  Headquarters 2016-12-18 00:00:00+00:00   \n",
       "22210             Service Manager  Headquarters 2005-05-06 00:00:00+00:00   \n",
       "22211              Junior Trainer  Headquarters 2020-04-11 00:00:00+00:00   \n",
       "22212          Staff Accountant I  Headquarters 2015-07-06 00:00:00+00:00   \n",
       "22213       Software Engineer III        Remote 2018-03-27 00:00:00+00:00   \n",
       "\n",
       "                       termdate location_city location_state  \\\n",
       "0                           NaT     Cleveland           Ohio   \n",
       "1                           NaT     Cleveland           Ohio   \n",
       "2                           NaT     Cleveland           Ohio   \n",
       "3                           NaT     Cleveland           Ohio   \n",
       "4     2029-10-29 06:09:38+00:00         Flint       Michigan   \n",
       "...                         ...           ...            ...   \n",
       "22209                       NaT     Cleveland           Ohio   \n",
       "22210                       NaT     Cleveland           Ohio   \n",
       "22211                       NaT     Cleveland           Ohio   \n",
       "22212 2012-12-10 14:29:59+00:00     Cleveland           Ohio   \n",
       "22213                       NaT    Fort Wayne        Indiana   \n",
       "\n",
       "                Full_name  \n",
       "0        Kimmy Walczynski  \n",
       "1      Ignatius Springett  \n",
       "2      Corbie Bittlestone  \n",
       "3             Baxy Matton  \n",
       "4            Terrell Suff  \n",
       "...                   ...  \n",
       "22209      Dorella Garvan  \n",
       "22210       Dasie Thorsby  \n",
       "22211       Nerty Wilding  \n",
       "22212       Mabelle Dawks  \n",
       "22213   Carroll Chattaway  \n",
       "\n",
       "[22214 rows x 12 columns]"
      ]
     },
     "execution_count": 43,
     "metadata": {},
     "output_type": "execute_result"
    }
   ],
   "source": [
    "df\n"
   ]
  },
  {
   "cell_type": "code",
   "execution_count": null,
   "id": "d61e43d2",
   "metadata": {},
   "outputs": [],
   "source": []
  }
 ],
 "metadata": {
  "kernelspec": {
   "display_name": ".venv",
   "language": "python",
   "name": "python3"
  },
  "language_info": {
   "codemirror_mode": {
    "name": "ipython",
    "version": 3
   },
   "file_extension": ".py",
   "mimetype": "text/x-python",
   "name": "python",
   "nbconvert_exporter": "python",
   "pygments_lexer": "ipython3",
   "version": "3.13.0"
  }
 },
 "nbformat": 4,
 "nbformat_minor": 5
}
